{
  "nbformat": 4,
  "nbformat_minor": 0,
  "metadata": {
    "colab": {
      "name": "traffic_light.ipynb",
      "provenance": [],
      "collapsed_sections": []
    },
    "kernelspec": {
      "name": "python3",
      "display_name": "Python 3"
    },
    "accelerator": "GPU"
  },
  "cells": [
    {
      "cell_type": "code",
      "metadata": {
        "id": "RAgdWT6aJxUX",
        "colab_type": "code",
        "colab": {}
      },
      "source": [
        "import cv2\n",
        "import numpy as np\n",
        "import tensorflow as tf\n",
        "\n",
        "color = cv2.imread(\"test3.jpg\", cv2.IMREAD_COLOR)\n",
        "img = cv2.cvtColor(color, cv2.COLOR_BGR2GRAY)\n",
        "#print(color)"
      ],
      "execution_count": 0,
      "outputs": []
    },
    {
      "cell_type": "code",
      "metadata": {
        "id": "KyQws2kTKlKz",
        "colab_type": "code",
        "outputId": "bb3dc566-ce12-4ec7-d2e3-0b29a88a9528",
        "colab": {
          "base_uri": "https://localhost:8080/",
          "height": 193
        }
      },
      "source": [
        "model1 = tf.keras.models.load_model('model_1.h5')\n",
        "model2 = tf.keras.models.load_model('model_2.h5')"
      ],
      "execution_count": 0,
      "outputs": [
        {
          "output_type": "stream",
          "text": [
            "WARNING:tensorflow:From /usr/local/lib/python3.6/dist-packages/tensorflow_core/python/ops/init_ops.py:97: calling GlorotUniform.__init__ (from tensorflow.python.ops.init_ops) with dtype is deprecated and will be removed in a future version.\n",
            "Instructions for updating:\n",
            "Call initializer instance with the dtype argument instead of passing it to the constructor\n",
            "WARNING:tensorflow:From /usr/local/lib/python3.6/dist-packages/tensorflow_core/python/ops/init_ops.py:97: calling Zeros.__init__ (from tensorflow.python.ops.init_ops) with dtype is deprecated and will be removed in a future version.\n",
            "Instructions for updating:\n",
            "Call initializer instance with the dtype argument instead of passing it to the constructor\n",
            "WARNING:tensorflow:From /usr/local/lib/python3.6/dist-packages/tensorflow_core/python/ops/resource_variable_ops.py:1630: calling BaseResourceVariable.__init__ (from tensorflow.python.ops.resource_variable_ops) with constraint is deprecated and will be removed in a future version.\n",
            "Instructions for updating:\n",
            "If using Keras pass *_constraint arguments to layers.\n"
          ],
          "name": "stdout"
        }
      ]
    },
    {
      "cell_type": "code",
      "metadata": {
        "id": "VpDWFSCYLTq2",
        "colab_type": "code",
        "colab": {}
      },
      "source": [
        "def get_center(img):\n",
        "    x,y,_ = np.shape(img)\n",
        "    n = x//2\n",
        "    m = y//2\n",
        "    x_ = x//10\n",
        "    y_ = y//10\n",
        "    new = img[n-x_:n+x_, m-y_:m+y_]\n",
        "    return new"
      ],
      "execution_count": 0,
      "outputs": []
    },
    {
      "cell_type": "code",
      "metadata": {
        "id": "G_ZTBpzsLc2u",
        "colab_type": "code",
        "colab": {}
      },
      "source": [
        "def mask(img):\n",
        "    r=1\n",
        "    y=1\n",
        "    g=1\n",
        "    hsv = cv2.cvtColor(img, cv2.COLOR_BGR2HSV)\n",
        "    lower_red = np.array([161, 155, 84]) \n",
        "    upper_red = np.array([179, 255, 255])\n",
        "    lower_green = np.array([25, 52, 72]) \n",
        "    upper_green = np.array([102, 255, 255])\n",
        "    lower_yellow = np.array([10,100,20])\n",
        "    upper_yellow = np.array([25,255,255])\n",
        "    red_mask = cv2.inRange(hsv, lower_red, upper_red)\n",
        "    red = cv2.bitwise_and(img, img, mask=red_mask)\n",
        "    green_mask = cv2.inRange(hsv, lower_green, upper_green)\n",
        "    green = cv2.bitwise_and(img, img, mask=green_mask)\n",
        "    yellow_mask = cv2.inRange(hsv, lower_yellow, upper_yellow)\n",
        "    yellow = cv2.bitwise_and(img, img, mask=yellow_mask)\n",
        "    if np.sum(red)==0 or np.sum(red)<np.sum(green) or np.sum(red)<np.sum(yellow):\n",
        "        r=0\n",
        "    if np.sum(green)==0 or np.sum(green)<np.sum(yellow) or np.sum(green)<np.sum(red):\n",
        "        g=0\n",
        "    if np.sum(yellow)==0 or np.sum(yellow)<np.sum(green) or np.sum(yellow)<np.sum(red):\n",
        "        y=0\n",
        "    return r,y,g"
      ],
      "execution_count": 0,
      "outputs": []
    },
    {
      "cell_type": "code",
      "metadata": {
        "id": "core-88wLflo",
        "colab_type": "code",
        "colab": {}
      },
      "source": [
        "import matplotlib.pyplot as plt\n",
        "def segment(img,model,model_2,segment_size):\n",
        "    assert len(np.shape(img))==2\n",
        "    n, m = segment_size\n",
        "    x, y = np.shape(img)\n",
        "    predict = []\n",
        "    k = 0\n",
        "    f = False\n",
        "    for i in range(x//n):\n",
        "        if k>3:\n",
        "            break\n",
        "        for j in range(y//m):\n",
        "            new = img[i*n:(i+1)*n, j*m:(j+1)*m]\n",
        "            new1 = color[(i)*n:(i+1)*n, (j)*m:(j+1)*m,:]\n",
        "            new = np.resize(new, (1, 200, 200, 1))\n",
        "            res = model.predict(new)\n",
        "            if np.argmax(res)==2:\n",
        "                f = True\n",
        "                res = model_2.predict(new)\n",
        "                p = np.argmax(res)\n",
        "                predict.append([p,i,j])\n",
        "                new = np.resize(new,(200,200))\n",
        "                plt.imshow(new1)\n",
        "                plt.show()\n",
        "            else:\n",
        "                continue\n",
        "        if f:\n",
        "          k = k+1\n",
        "    for j in range(len(predict)):\n",
        "      p = predict[j][0]\n",
        "      i = predict[j][1]\n",
        "      k = predict[j][2]\n",
        "      predict.append([p,i+1,k])\n",
        "      predict.append([p,i+1,k+1])\n",
        "      predict.append([p,i,k+1])\n",
        "    return predict"
      ],
      "execution_count": 0,
      "outputs": []
    },
    {
      "cell_type": "code",
      "metadata": {
        "id": "xG1qg6K5Likl",
        "colab_type": "code",
        "colab": {}
      },
      "source": [
        "def direction(predict, segment_size, img):\n",
        "    # label_1 -> (None,light_0,light_1)\n",
        "    # label_2 -> (left,right,straight,full,u)\n",
        "    n, m = segment_size\n",
        "    x, y, _ = np.shape(img)\n",
        "    left = [x,y]\n",
        "    right = [x,y]\n",
        "    straight = [x,y]\n",
        "    full = [x,y]\n",
        "    u = [x,y]\n",
        "    active = [False,False,False,False,False]#left,right,straight,full,u\n",
        "    for j in range(len(predict)):\n",
        "      p = predict[j][0]\n",
        "      i= predict[j][1]\n",
        "      if p==0 and i*n<left[0] and not active[0]:\n",
        "        left[0] = i*n\n",
        "        left[1] = j*m\n",
        "        active[0] = True\n",
        "        continue\n",
        "      if p==1 and i*n<right[0] and not active[1]:\n",
        "        right[0] = i*n\n",
        "        right[1] = j*m\n",
        "        active[1] = True\n",
        "        continue\n",
        "      if p==2 and i*n<straight[0] and not active[2]:\n",
        "        straight[0] = i*n\n",
        "        straight[1] = j*m\n",
        "        active[2] = True\n",
        "        continue\n",
        "      if p==3 and i*n<full[0] and not active[3]:\n",
        "        full[0] = i*n\n",
        "        full[1] = j*m\n",
        "        active[3] = True\n",
        "        continue\n",
        "      if p==4 and i*n<u[0] and not active[4]:\n",
        "        u[0] = i*n\n",
        "        u[1] = j*m\n",
        "        active[4] = True\n",
        "        continue\n",
        "      if np.sum(active)==5:\n",
        "        break\n",
        "    direction = [False,False,False,False,False]#left,right,front,U,wait\n",
        "    #region = []\n",
        "    if active[3] and full[0]<u[0] and full[0]<straight[0] and full[0]<right[0] and full[0]<left[0]:\n",
        "        new = img[full[0]:full[0]+n, full[1]:full[1]+m]\n",
        "        new = get_center(new)\n",
        "        r,y,g = mask(new)\n",
        "        #region.append([full])\n",
        "        if r==1:\n",
        "            return direction\n",
        "        elif y==1:\n",
        "            direction[4] = True\n",
        "            return direction\n",
        "        else:\n",
        "            direction = [True,True,True,True,False]\n",
        "            return direction\n",
        "    if active[0]:\n",
        "        new = img[left[0]:left[0]+n, left[1]:left[1]+m]\n",
        "        new = get_center(new)\n",
        "        r,y,g = mask(new)\n",
        "        #region.append([left])\n",
        "        if r==1:\n",
        "            direction[0] = False\n",
        "        elif y==1:\n",
        "            direction[4] = True\n",
        "        else:\n",
        "            direction[0] = True\n",
        "    if active[1]:\n",
        "        new = img[right[0]:right[0]+n, right[1]:right[1]+m]\n",
        "        new = get_center(new)\n",
        "        r,y,g = mask(new)\n",
        "        #region.append([right])\n",
        "        if r==1:\n",
        "            direction[1] = False\n",
        "        elif y==1:\n",
        "            direction[4] = True\n",
        "        else:\n",
        "            direction[1] = True\n",
        "    if active[2]:\n",
        "        new = img[straight[0]:straight[0]+n, straight[1]:straight[1]+m]\n",
        "        new = get_center(new)\n",
        "        r,y,g = mask(new)\n",
        "        #region.append([straight])\n",
        "        if r==1:\n",
        "            direction[2] = False\n",
        "        elif y==1:\n",
        "            direction[4] = True\n",
        "        else:\n",
        "            direction[2] = True\n",
        "    if active[4]:\n",
        "        new = img[u[0]:u[0]+n, u[1]:u[1]+m]\n",
        "        new = get_center(new)\n",
        "        r,y,g = mask(new)\n",
        "        #region.append([u])\n",
        "        if r==1:\n",
        "            direction[3] = False\n",
        "        elif y==1:\n",
        "            direction[4] = True\n",
        "        else:\n",
        "            direction[3] = True\n",
        "    return direction"
      ],
      "execution_count": 0,
      "outputs": []
    },
    {
      "cell_type": "code",
      "metadata": {
        "id": "kv8CqApdLn5j",
        "colab_type": "code",
        "outputId": "40d1607b-8b3e-4c94-8b7d-507862a2a931",
        "colab": {
          "base_uri": "https://localhost:8080/",
          "height": 286
        }
      },
      "source": [
        "segment_size = [192, 181]\n",
        "predict = segment(img, model1, model2, segment_size)\n",
        "print(len(predict))"
      ],
      "execution_count": 0,
      "outputs": [
        {
          "output_type": "display_data",
          "data": {
            "image/png": "[encoded data removed]",
            "text/plain": [
              "<Figure size 432x288 with 1 Axes>"
            ]
          },
          "metadata": {
            "tags": []
          }
        },
        {
          "output_type": "stream",
          "text": [
            "4\n"
          ],
          "name": "stdout"
        }
      ]
    },
    {
      "cell_type": "code",
      "metadata": {
        "id": "EzL_0OreM3I-",
        "colab_type": "code",
        "outputId": "60b599d7-8e65-43ea-ae12-d4ebde7ef90c",
        "colab": {
          "base_uri": "https://localhost:8080/",
          "height": 237
        }
      },
      "source": [
        "direction = direction(predict, segment_size, color)\n",
        "\n",
        "print(direction)\n",
        "#print(np.size(region))\n",
        "#print(region)"
      ],
      "execution_count": 0,
      "outputs": [
        {
          "output_type": "error",
          "ename": "TypeError",
          "evalue": "ignored",
          "traceback": [
            "\u001b[0;31m---------------------------------------------------------------------------\u001b[0m",
            "\u001b[0;31mTypeError\u001b[0m                                 Traceback (most recent call last)",
            "\u001b[0;32m<ipython-input-22-1e712ce59c96>\u001b[0m in \u001b[0;36m<module>\u001b[0;34m()\u001b[0m\n\u001b[0;32m----> 1\u001b[0;31m \u001b[0mdirection\u001b[0m \u001b[0;34m=\u001b[0m \u001b[0mdirection\u001b[0m\u001b[0;34m(\u001b[0m\u001b[0mpredict\u001b[0m\u001b[0;34m,\u001b[0m \u001b[0msegment_size\u001b[0m\u001b[0;34m,\u001b[0m \u001b[0mcolor\u001b[0m\u001b[0;34m)\u001b[0m\u001b[0;34m\u001b[0m\u001b[0;34m\u001b[0m\u001b[0m\n\u001b[0m\u001b[1;32m      2\u001b[0m \u001b[0;34m\u001b[0m\u001b[0m\n\u001b[1;32m      3\u001b[0m \u001b[0mprint\u001b[0m\u001b[0;34m(\u001b[0m\u001b[0mdirection\u001b[0m\u001b[0;34m)\u001b[0m\u001b[0;34m\u001b[0m\u001b[0;34m\u001b[0m\u001b[0m\n\u001b[1;32m      4\u001b[0m \u001b[0;31m#print(np.size(region))\u001b[0m\u001b[0;34m\u001b[0m\u001b[0;34m\u001b[0m\u001b[0;34m\u001b[0m\u001b[0m\n\u001b[1;32m      5\u001b[0m \u001b[0;31m#print(region)\u001b[0m\u001b[0;34m\u001b[0m\u001b[0;34m\u001b[0m\u001b[0;34m\u001b[0m\u001b[0m\n",
            "\u001b[0;31mTypeError\u001b[0m: 'list' object is not callable"
          ]
        }
      ]
    },
    {
      "cell_type": "code",
      "metadata": {
        "id": "IgrFb46NRvkc",
        "colab_type": "code",
        "colab": {}
      },
      "source": [
        ""
      ],
      "execution_count": 0,
      "outputs": []
    }
  ]
}