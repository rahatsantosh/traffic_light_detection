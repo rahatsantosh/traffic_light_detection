{
  "nbformat": 4,
  "nbformat_minor": 0,
  "metadata": {
    "accelerator": "GPU",
    "colab": {
      "name": "nn_model_train.ipynb",
      "provenance": [],
      "collapsed_sections": []
    },
    "kernelspec": {
      "name": "python3",
      "display_name": "Python 3"
    },
    "language_info": {
      "codemirror_mode": {
        "name": "ipython",
        "version": 3
      },
      "file_extension": ".py",
      "mimetype": "text/x-python",
      "name": "python",
      "nbconvert_exporter": "python",
      "pygments_lexer": "ipython3",
      "version": "3.7.3"
    }
  },
  "cells": [
    {
      "cell_type": "code",
      "metadata": {
        "colab_type": "code",
        "id": "Wc7CXIkmUPvq",
        "outputId": "fa96534b-5160-40df-d25c-0b04805d0985",
        "colab": {
          "base_uri": "https://localhost:8080/",
          "height": 69
        }
      },
      "source": [
        "!unzip data.zip"
      ],
      "execution_count": 0,
      "outputs": [
        {
          "output_type": "stream",
          "text": [
            "Archive:  data.zip\n",
            "  inflating: data.pickle             \n",
            "  inflating: label.pickle            \n"
          ],
          "name": "stdout"
        }
      ]
    },
    {
      "cell_type": "code",
      "metadata": {
        "id": "_5uET4Vxr7Ga",
        "colab_type": "code",
        "outputId": "33d4be4f-6c8f-49ba-ff81-bf888bc42ce0",
        "colab": {
          "base_uri": "https://localhost:8080/",
          "height": 124
        }
      },
      "source": [
        "from google.colab import drive\n",
        "drive.mount('/content/drive')"
      ],
      "execution_count": 1,
      "outputs": [
        {
          "output_type": "stream",
          "text": [
            "Go to this URL in a browser: https://accounts.google.com/o/oauth2/auth?client_id=947318989803-6bn6qk8qdgf4n4g3pfee6491hc0brc4i.apps.googleusercontent.com&redirect_uri=urn%3aietf%3awg%3aoauth%3a2.0%3aoob&response_type=code&scope=email%20https%3a%2f%2fwww.googleapis.com%2fauth%2fdocs.test%20https%3a%2f%2fwww.googleapis.com%2fauth%2fdrive%20https%3a%2f%2fwww.googleapis.com%2fauth%2fdrive.photos.readonly%20https%3a%2f%2fwww.googleapis.com%2fauth%2fpeopleapi.readonly\n",
            "\n",
            "Enter your authorization code:\n",
            "··········\n",
            "Mounted at /content/drive\n"
          ],
          "name": "stdout"
        }
      ]
    },
    {
      "cell_type": "code",
      "metadata": {
        "id": "USGrxsO2sMsI",
        "colab_type": "code",
        "colab": {}
      },
      "source": [
        "!cp \"drive/My Drive/traffic_model/data.pickle\" .\n",
        "!cp \"drive/My Drive/traffic_model/label.pickle\" ."
      ],
      "execution_count": 0,
      "outputs": []
    },
    {
      "cell_type": "code",
      "metadata": {
        "id": "prG9FuDYZSwN",
        "colab_type": "code",
        "outputId": "73d4e1b2-3aca-4bb7-8982-cfa5139c3141",
        "colab": {
          "base_uri": "https://localhost:8080/",
          "height": 64
        }
      },
      "source": [
        "import pickle\n",
        "import pandas as pd\n",
        "import numpy as np\n",
        "import tensorflow as tf\n",
        "\n",
        "x = pickle.load(open('data.pickle','rb'))\n",
        "y = pickle.load(open('label.pickle','rb'))"
      ],
      "execution_count": 2,
      "outputs": [
        {
          "output_type": "display_data",
          "data": {
            "text/html": [
              "<p style=\"color: red;\">\n",
              "The default version of TensorFlow in Colab will soon switch to TensorFlow 2.x.<br>\n",
              "We recommend you <a href=\"https://www.tensorflow.org/guide/migrate\" target=\"_blank\">upgrade</a> now \n",
              "or ensure your notebook will continue to use TensorFlow 1.x via the <code>%tensorflow_version 1.x</code> magic:\n",
              "<a href=\"https://colab.research.google.com/notebooks/tensorflow_version.ipynb\" target=\"_blank\">more info</a>.</p>\n"
            ],
            "text/plain": [
              "<IPython.core.display.HTML object>"
            ]
          },
          "metadata": {
            "tags": []
          }
        }
      ]
    },
    {
      "cell_type": "code",
      "metadata": {
        "colab_type": "code",
        "id": "HYPxwz2hUPv1",
        "outputId": "13458011-478f-438a-b4dd-97f22067502e",
        "colab": {
          "base_uri": "https://localhost:8080/",
          "height": 52
        }
      },
      "source": [
        "print(np.shape(x))\n",
        "x=np.reshape(x,(508,299,299,3))\n",
        "print(np.shape(x))"
      ],
      "execution_count": 3,
      "outputs": [
        {
          "output_type": "stream",
          "text": [
            "(508, 1, 299, 299, 3)\n",
            "(508, 299, 299, 3)\n"
          ],
          "name": "stdout"
        }
      ]
    },
    {
      "cell_type": "code",
      "metadata": {
        "colab_type": "code",
        "id": "nz8afNuTUPv_",
        "outputId": "6f60f0f9-9fd8-4f0d-d859-a7c354937c5d",
        "colab": {
          "base_uri": "https://localhost:8080/",
          "height": 156
        }
      },
      "source": [
        "print(np.shape(y))\n",
        "y = np.asarray(y)\n",
        "print(y)"
      ],
      "execution_count": 4,
      "outputs": [
        {
          "output_type": "stream",
          "text": [
            "(508, 2)\n",
            "[[0 0]\n",
            " [1 0]\n",
            " [1 0]\n",
            " ...\n",
            " [0 0]\n",
            " [0 0]\n",
            " [0 0]]\n"
          ],
          "name": "stdout"
        }
      ]
    },
    {
      "cell_type": "code",
      "metadata": {
        "id": "P8ouQZPPs5mR",
        "colab_type": "code",
        "colab": {}
      },
      "source": [
        "y1 = np.empty((508,), dtype = int)\n",
        "y2 = np.empty((508,), dtype = int)\n",
        "\n",
        "y1[:] = y[:,0]\n",
        "y2[:] = y[:,1]"
      ],
      "execution_count": 0,
      "outputs": []
    },
    {
      "cell_type": "code",
      "metadata": {
        "colab_type": "code",
        "id": "mf6xQcWsUPwH",
        "outputId": "5580e1e7-d7f7-4da0-dd57-59a2826e2351",
        "colab": {
          "base_uri": "https://localhost:8080/",
          "height": 106
        }
      },
      "source": [
        "from tensorflow.keras import regularizers, Model\n",
        "from tensorflow.keras.metrics import Recall,Precision\n",
        "from tensorflow.keras.models import Sequential\n",
        "from tensorflow.keras.layers import Dense,Flatten,Dropout,Activation,Conv2D,MaxPooling2D,Dropout,Input\n",
        "import tensorflow as tf\n",
        "import keras\n",
        "\n",
        "\n",
        "model0 = Input(shape = (299,299,3))\n",
        "\n",
        "model_0 = Conv2D(64, (3,3), activation='relu')(model0)\n",
        "model_0 = MaxPooling2D(2, 2)(model_0)\n",
        "\n",
        "model = Conv2D(128, (3,3), activation='relu')(model_0)\n",
        "model = MaxPooling2D(2, 2)(model)\n",
        "\n",
        "model_0 = Flatten()(model_0)\n",
        "model_0 = Dense(128, activation = 'relu')(model_0)\n",
        "\n",
        "model = Conv2D(64, (3,3), activation='relu')(model)\n",
        "model = MaxPooling2D(2, 2)(model)\n",
        "\n",
        "model = Conv2D(128, (3,3), activation='relu')(model)\n",
        "model = MaxPooling2D(2, 2)(model)\n",
        "\n",
        "model = Flatten()(model)\n",
        "model = Dense(128, activation = 'relu')(model)\n",
        "\n",
        "inter = tf.keras.layers.Add()([model_0,model])\n",
        "\n",
        "model_ = Dense(128,kernel_regularizer=regularizers.l2(0.01),activity_regularizer=regularizers.l1(0.01), activation = 'relu')(inter)\n",
        "\n",
        "model_ = Dense(64,kernel_regularizer=regularizers.l2(0.01),activity_regularizer=regularizers.l1(0.01), activation = 'relu')(model_)\n",
        "\n",
        "model_ = Dropout(0.2)(model_)\n",
        "\n",
        "model_ = Dense(32,kernel_regularizer=regularizers.l2(0.01),activity_regularizer=regularizers.l1(0.01), activation = 'relu')(model_)\n"
      ],
      "execution_count": 6,
      "outputs": [
        {
          "output_type": "stream",
          "text": [
            "WARNING:tensorflow:From /usr/local/lib/python3.6/dist-packages/tensorflow_core/python/ops/resource_variable_ops.py:1630: calling BaseResourceVariable.__init__ (from tensorflow.python.ops.resource_variable_ops) with constraint is deprecated and will be removed in a future version.\n",
            "Instructions for updating:\n",
            "If using Keras pass *_constraint arguments to layers.\n"
          ],
          "name": "stdout"
        },
        {
          "output_type": "stream",
          "text": [
            "Using TensorFlow backend.\n"
          ],
          "name": "stderr"
        }
      ]
    },
    {
      "cell_type": "code",
      "metadata": {
        "id": "FT1TK2NklLHf",
        "colab_type": "code",
        "outputId": "56efe9c1-94d5-4a98-92da-9782f78c16d0",
        "colab": {
          "base_uri": "https://localhost:8080/",
          "height": 940
        }
      },
      "source": [
        "model1 = Dense(1, activation = \"sigmoid\")(model_)\n",
        "\n",
        "model2 = Dense(1, activation = \"sigmoid\")(model_)\n",
        "\n",
        "final = Model(inputs = [model0], outputs = [model1, model2])\n",
        "\n",
        "final.compile(optimizer=tf.keras.optimizers.Adam(amsgrad = True),\n",
        "              loss='binary_crossentropy',\n",
        "              metrics=['accuracy'])\n",
        "\n",
        "final.summary()"
      ],
      "execution_count": 8,
      "outputs": [
        {
          "output_type": "stream",
          "text": [
            "WARNING:tensorflow:From /usr/local/lib/python3.6/dist-packages/tensorflow_core/python/ops/nn_impl.py:183: where (from tensorflow.python.ops.array_ops) is deprecated and will be removed in a future version.\n",
            "Instructions for updating:\n",
            "Use tf.where in 2.0, which has the same broadcast rule as np.where\n",
            "Model: \"model_1\"\n",
            "__________________________________________________________________________________________________\n",
            "Layer (type)                    Output Shape         Param #     Connected to                     \n",
            "==================================================================================================\n",
            "input_1 (InputLayer)            [(None, 299, 299, 3) 0                                            \n",
            "__________________________________________________________________________________________________\n",
            "conv2d (Conv2D)                 (None, 297, 297, 64) 1792        input_1[0][0]                    \n",
            "__________________________________________________________________________________________________\n",
            "max_pooling2d (MaxPooling2D)    (None, 148, 148, 64) 0           conv2d[0][0]                     \n",
            "__________________________________________________________________________________________________\n",
            "conv2d_1 (Conv2D)               (None, 146, 146, 128 73856       max_pooling2d[0][0]              \n",
            "__________________________________________________________________________________________________\n",
            "max_pooling2d_1 (MaxPooling2D)  (None, 73, 73, 128)  0           conv2d_1[0][0]                   \n",
            "__________________________________________________________________________________________________\n",
            "conv2d_2 (Conv2D)               (None, 71, 71, 64)   73792       max_pooling2d_1[0][0]            \n",
            "__________________________________________________________________________________________________\n",
            "max_pooling2d_2 (MaxPooling2D)  (None, 35, 35, 64)   0           conv2d_2[0][0]                   \n",
            "__________________________________________________________________________________________________\n",
            "conv2d_3 (Conv2D)               (None, 33, 33, 128)  73856       max_pooling2d_2[0][0]            \n",
            "__________________________________________________________________________________________________\n",
            "max_pooling2d_3 (MaxPooling2D)  (None, 16, 16, 128)  0           conv2d_3[0][0]                   \n",
            "__________________________________________________________________________________________________\n",
            "flatten (Flatten)               (None, 1401856)      0           max_pooling2d[0][0]              \n",
            "__________________________________________________________________________________________________\n",
            "flatten_1 (Flatten)             (None, 32768)        0           max_pooling2d_3[0][0]            \n",
            "__________________________________________________________________________________________________\n",
            "dense (Dense)                   (None, 128)          179437696   flatten[0][0]                    \n",
            "__________________________________________________________________________________________________\n",
            "dense_1 (Dense)                 (None, 128)          4194432     flatten_1[0][0]                  \n",
            "__________________________________________________________________________________________________\n",
            "add (Add)                       (None, 128)          0           dense[0][0]                      \n",
            "                                                                 dense_1[0][0]                    \n",
            "__________________________________________________________________________________________________\n",
            "dense_2 (Dense)                 (None, 128)          16512       add[0][0]                        \n",
            "__________________________________________________________________________________________________\n",
            "dense_3 (Dense)                 (None, 64)           8256        dense_2[0][0]                    \n",
            "__________________________________________________________________________________________________\n",
            "dropout (Dropout)               (None, 64)           0           dense_3[0][0]                    \n",
            "__________________________________________________________________________________________________\n",
            "dense_4 (Dense)                 (None, 32)           2080        dropout[0][0]                    \n",
            "__________________________________________________________________________________________________\n",
            "dense_7 (Dense)                 (None, 1)            33          dense_4[0][0]                    \n",
            "__________________________________________________________________________________________________\n",
            "dense_8 (Dense)                 (None, 1)            33          dense_4[0][0]                    \n",
            "==================================================================================================\n",
            "Total params: 183,882,338\n",
            "Trainable params: 183,882,338\n",
            "Non-trainable params: 0\n",
            "__________________________________________________________________________________________________\n"
          ],
          "name": "stdout"
        }
      ]
    },
    {
      "cell_type": "code",
      "metadata": {
        "colab_type": "code",
        "id": "OtPCIibyUPwP",
        "outputId": "c631e4f3-1342-4175-f23d-c405212e5ac2",
        "colab": {
          "base_uri": "https://localhost:8080/",
          "height": 34
        }
      },
      "source": [
        "import keras\n",
        "from tensorflow.keras.callbacks import EarlyStopping,CSVLogger,ModelCheckpoint,TensorBoard\n",
        "filename=\"metrics.csv\"\n",
        "es=EarlyStopping(monitor='loss', min_delta=0, patience=3, mode='min', baseline=None, restore_best_weights=True)\n",
        "csv=CSVLogger(filename, separator=',', append=False)\n",
        "checkpoint=ModelCheckpoint(\"weights.{epoch}-{val_acc:.2f}.hdf5\", monitor='val_acc', verbose=0, save_best_only=False, save_weights_only=False, mode='auto', period=1)\n",
        "tensorboard=TensorBoard(log_dir='./logs', histogram_freq=0, batch_size=32, write_graph=True, write_grads=False, write_images=False, embeddings_freq=0, embeddings_layer_names=None, embeddings_metadata=None, embeddings_data=None, update_freq='epoch')"
      ],
      "execution_count": 9,
      "outputs": [
        {
          "output_type": "stream",
          "text": [
            "WARNING:tensorflow:`period` argument is deprecated. Please use `save_freq` to specify the frequency in number of samples seen.\n"
          ],
          "name": "stdout"
        }
      ]
    },
    {
      "cell_type": "code",
      "metadata": {
        "colab_type": "code",
        "id": "syh57sj4UPwX",
        "outputId": "762432aa-e45d-47d6-f98a-a55fd257da83",
        "colab": {
          "base_uri": "https://localhost:8080/",
          "height": 1000
        }
      },
      "source": [
        "final.fit(x, [y1,y2], epochs=100, batch_size=64, callbacks=[tensorboard])"
      ],
      "execution_count": 10,
      "outputs": [
        {
          "output_type": "stream",
          "text": [
            "Train on 508 samples\n",
            "Epoch 1/100\n",
            "508/508 [==============================] - 14s 28ms/sample - loss: 4689.0031 - dense_7_loss: 943.6669 - dense_8_loss: 545.0397 - dense_7_acc: 0.6535 - dense_8_acc: 0.6654\n",
            "Epoch 2/100\n",
            "508/508 [==============================] - 7s 14ms/sample - loss: 1316.7170 - dense_7_loss: 66.0550 - dense_8_loss: 118.5060 - dense_7_acc: 0.7382 - dense_8_acc: 0.7008\n",
            "Epoch 3/100\n",
            "508/508 [==============================] - 7s 14ms/sample - loss: 281.8492 - dense_7_loss: 16.9095 - dense_8_loss: 16.3870 - dense_7_acc: 0.6122 - dense_8_acc: 0.7126\n",
            "Epoch 4/100\n",
            "508/508 [==============================] - 7s 14ms/sample - loss: 73.8979 - dense_7_loss: 3.2321 - dense_8_loss: 9.6460 - dense_7_acc: 0.7421 - dense_8_acc: 0.6850\n",
            "Epoch 5/100\n",
            "508/508 [==============================] - 7s 14ms/sample - loss: 27.8765 - dense_7_loss: 1.5633 - dense_8_loss: 2.7392 - dense_7_acc: 0.6693 - dense_8_acc: 0.7657\n",
            "Epoch 6/100\n",
            "508/508 [==============================] - 7s 14ms/sample - loss: 15.3339 - dense_7_loss: 0.8012 - dense_8_loss: 1.6363 - dense_7_acc: 0.7421 - dense_8_acc: 0.7480\n",
            "Epoch 7/100\n",
            "508/508 [==============================] - 7s 14ms/sample - loss: 9.5973 - dense_7_loss: 0.5705 - dense_8_loss: 0.8193 - dense_7_acc: 0.7638 - dense_8_acc: 0.8169\n",
            "Epoch 8/100\n",
            "508/508 [==============================] - 7s 14ms/sample - loss: 7.3041 - dense_7_loss: 0.5950 - dense_8_loss: 0.8624 - dense_7_acc: 0.7992 - dense_8_acc: 0.8189\n",
            "Epoch 9/100\n",
            "508/508 [==============================] - 7s 14ms/sample - loss: 5.8858 - dense_7_loss: 0.6114 - dense_8_loss: 0.6942 - dense_7_acc: 0.7913 - dense_8_acc: 0.8366\n",
            "Epoch 10/100\n",
            "508/508 [==============================] - 7s 14ms/sample - loss: 4.8849 - dense_7_loss: 0.5525 - dense_8_loss: 0.7093 - dense_7_acc: 0.8110 - dense_8_acc: 0.8386\n",
            "Epoch 11/100\n",
            "508/508 [==============================] - 7s 14ms/sample - loss: 3.9935 - dense_7_loss: 0.5375 - dense_8_loss: 0.5682 - dense_7_acc: 0.8031 - dense_8_acc: 0.8307\n",
            "Epoch 12/100\n",
            "508/508 [==============================] - 7s 14ms/sample - loss: 3.6122 - dense_7_loss: 0.5554 - dense_8_loss: 0.5327 - dense_7_acc: 0.7874 - dense_8_acc: 0.8346\n",
            "Epoch 13/100\n",
            "508/508 [==============================] - 7s 14ms/sample - loss: 3.4459 - dense_7_loss: 0.5332 - dense_8_loss: 0.5270 - dense_7_acc: 0.7854 - dense_8_acc: 0.8268\n",
            "Epoch 14/100\n",
            "508/508 [==============================] - 7s 14ms/sample - loss: 3.3192 - dense_7_loss: 0.5603 - dense_8_loss: 0.5137 - dense_7_acc: 0.7815 - dense_8_acc: 0.8287\n",
            "Epoch 15/100\n",
            "508/508 [==============================] - 7s 14ms/sample - loss: 3.2496 - dense_7_loss: 0.5395 - dense_8_loss: 0.4947 - dense_7_acc: 0.7874 - dense_8_acc: 0.8445\n",
            "Epoch 16/100\n",
            "508/508 [==============================] - 7s 14ms/sample - loss: 3.2140 - dense_7_loss: 0.5440 - dense_8_loss: 0.5049 - dense_7_acc: 0.7756 - dense_8_acc: 0.8268\n",
            "Epoch 17/100\n",
            "508/508 [==============================] - 7s 14ms/sample - loss: 3.1885 - dense_7_loss: 0.5346 - dense_8_loss: 0.5078 - dense_7_acc: 0.7815 - dense_8_acc: 0.7953\n",
            "Epoch 18/100\n",
            "508/508 [==============================] - 7s 14ms/sample - loss: 3.1469 - dense_7_loss: 0.5367 - dense_8_loss: 0.4913 - dense_7_acc: 0.7815 - dense_8_acc: 0.8169\n",
            "Epoch 19/100\n",
            "508/508 [==============================] - 7s 14ms/sample - loss: 3.1160 - dense_7_loss: 0.5109 - dense_8_loss: 0.4766 - dense_7_acc: 0.7815 - dense_8_acc: 0.8110\n",
            "Epoch 20/100\n",
            "508/508 [==============================] - 7s 14ms/sample - loss: 3.0948 - dense_7_loss: 0.5172 - dense_8_loss: 0.4814 - dense_7_acc: 0.7835 - dense_8_acc: 0.8130\n",
            "Epoch 21/100\n",
            "508/508 [==============================] - 7s 14ms/sample - loss: 3.0630 - dense_7_loss: 0.4947 - dense_8_loss: 0.4609 - dense_7_acc: 0.7795 - dense_8_acc: 0.8228\n",
            "Epoch 22/100\n",
            "508/508 [==============================] - 7s 14ms/sample - loss: 3.0401 - dense_7_loss: 0.5036 - dense_8_loss: 0.4434 - dense_7_acc: 0.7776 - dense_8_acc: 0.8268\n",
            "Epoch 23/100\n",
            "508/508 [==============================] - 7s 14ms/sample - loss: 3.0075 - dense_7_loss: 0.4742 - dense_8_loss: 0.4207 - dense_7_acc: 0.7795 - dense_8_acc: 0.8504\n",
            "Epoch 24/100\n",
            "508/508 [==============================] - 7s 14ms/sample - loss: 2.9775 - dense_7_loss: 0.4833 - dense_8_loss: 0.4243 - dense_7_acc: 0.7776 - dense_8_acc: 0.8524\n",
            "Epoch 25/100\n",
            "508/508 [==============================] - 7s 14ms/sample - loss: 2.9558 - dense_7_loss: 0.4754 - dense_8_loss: 0.4206 - dense_7_acc: 0.7756 - dense_8_acc: 0.8524\n",
            "Epoch 26/100\n",
            "508/508 [==============================] - 7s 14ms/sample - loss: 2.9299 - dense_7_loss: 0.4608 - dense_8_loss: 0.4019 - dense_7_acc: 0.7776 - dense_8_acc: 0.8661\n",
            "Epoch 27/100\n",
            "508/508 [==============================] - 7s 14ms/sample - loss: 2.9134 - dense_7_loss: 0.4489 - dense_8_loss: 0.3952 - dense_7_acc: 0.7835 - dense_8_acc: 0.8642\n",
            "Epoch 28/100\n",
            "508/508 [==============================] - 7s 14ms/sample - loss: 2.8965 - dense_7_loss: 0.4633 - dense_8_loss: 0.3970 - dense_7_acc: 0.7776 - dense_8_acc: 0.8583\n",
            "Epoch 29/100\n",
            "508/508 [==============================] - 7s 14ms/sample - loss: 2.8652 - dense_7_loss: 0.4399 - dense_8_loss: 0.3776 - dense_7_acc: 0.7815 - dense_8_acc: 0.8681\n",
            "Epoch 30/100\n",
            "508/508 [==============================] - 7s 14ms/sample - loss: 2.8496 - dense_7_loss: 0.4358 - dense_8_loss: 0.3742 - dense_7_acc: 0.7776 - dense_8_acc: 0.8701\n",
            "Epoch 31/100\n",
            "508/508 [==============================] - 7s 14ms/sample - loss: 2.8283 - dense_7_loss: 0.4418 - dense_8_loss: 0.3662 - dense_7_acc: 0.7835 - dense_8_acc: 0.8878\n",
            "Epoch 32/100\n",
            "508/508 [==============================] - 7s 14ms/sample - loss: 2.8090 - dense_7_loss: 0.4304 - dense_8_loss: 0.3497 - dense_7_acc: 0.7874 - dense_8_acc: 0.8878\n",
            "Epoch 33/100\n",
            "508/508 [==============================] - 7s 14ms/sample - loss: 2.8025 - dense_7_loss: 0.4291 - dense_8_loss: 0.3651 - dense_7_acc: 0.7835 - dense_8_acc: 0.8819\n",
            "Epoch 34/100\n",
            "508/508 [==============================] - 7s 14ms/sample - loss: 2.7711 - dense_7_loss: 0.4118 - dense_8_loss: 0.3408 - dense_7_acc: 0.7913 - dense_8_acc: 0.8917\n",
            "Epoch 35/100\n",
            "508/508 [==============================] - 7s 14ms/sample - loss: 2.7579 - dense_7_loss: 0.4168 - dense_8_loss: 0.3324 - dense_7_acc: 0.7854 - dense_8_acc: 0.8996\n",
            "Epoch 36/100\n",
            "508/508 [==============================] - 7s 14ms/sample - loss: 2.7537 - dense_7_loss: 0.4234 - dense_8_loss: 0.3429 - dense_7_acc: 0.7854 - dense_8_acc: 0.8898\n",
            "Epoch 37/100\n",
            "508/508 [==============================] - 7s 14ms/sample - loss: 2.7294 - dense_7_loss: 0.4100 - dense_8_loss: 0.3278 - dense_7_acc: 0.7913 - dense_8_acc: 0.9016\n",
            "Epoch 38/100\n",
            "508/508 [==============================] - 7s 14ms/sample - loss: 2.7161 - dense_7_loss: 0.4119 - dense_8_loss: 0.3317 - dense_7_acc: 0.7933 - dense_8_acc: 0.9016\n",
            "Epoch 39/100\n",
            "508/508 [==============================] - 7s 14ms/sample - loss: 2.7039 - dense_7_loss: 0.4094 - dense_8_loss: 0.3196 - dense_7_acc: 0.7874 - dense_8_acc: 0.9035\n",
            "Epoch 40/100\n",
            "508/508 [==============================] - 7s 14ms/sample - loss: 2.6898 - dense_7_loss: 0.3977 - dense_8_loss: 0.3161 - dense_7_acc: 0.7913 - dense_8_acc: 0.9035\n",
            "Epoch 41/100\n",
            "508/508 [==============================] - 7s 14ms/sample - loss: 2.6911 - dense_7_loss: 0.4028 - dense_8_loss: 0.3201 - dense_7_acc: 0.7933 - dense_8_acc: 0.8976\n",
            "Epoch 42/100\n",
            "508/508 [==============================] - 7s 14ms/sample - loss: 2.6740 - dense_7_loss: 0.4071 - dense_8_loss: 0.3137 - dense_7_acc: 0.7953 - dense_8_acc: 0.9016\n",
            "Epoch 43/100\n",
            "508/508 [==============================] - 7s 14ms/sample - loss: 2.6646 - dense_7_loss: 0.3961 - dense_8_loss: 0.3102 - dense_7_acc: 0.7913 - dense_8_acc: 0.9016\n",
            "Epoch 44/100\n",
            "508/508 [==============================] - 7s 14ms/sample - loss: 2.6543 - dense_7_loss: 0.3917 - dense_8_loss: 0.3040 - dense_7_acc: 0.7972 - dense_8_acc: 0.9075\n",
            "Epoch 45/100\n",
            "508/508 [==============================] - 7s 14ms/sample - loss: 2.6517 - dense_7_loss: 0.4012 - dense_8_loss: 0.3005 - dense_7_acc: 0.7953 - dense_8_acc: 0.9055\n",
            "Epoch 46/100\n",
            "508/508 [==============================] - 7s 14ms/sample - loss: 2.6288 - dense_7_loss: 0.3978 - dense_8_loss: 0.3033 - dense_7_acc: 0.7913 - dense_8_acc: 0.9016\n",
            "Epoch 47/100\n",
            "508/508 [==============================] - 7s 14ms/sample - loss: 2.6238 - dense_7_loss: 0.3872 - dense_8_loss: 0.3027 - dense_7_acc: 0.7972 - dense_8_acc: 0.9016\n",
            "Epoch 48/100\n",
            "508/508 [==============================] - 7s 14ms/sample - loss: 2.6114 - dense_7_loss: 0.3858 - dense_8_loss: 0.3014 - dense_7_acc: 0.8012 - dense_8_acc: 0.9035\n",
            "Epoch 49/100\n",
            "508/508 [==============================] - 7s 14ms/sample - loss: 2.6061 - dense_7_loss: 0.3884 - dense_8_loss: 0.3023 - dense_7_acc: 0.8031 - dense_8_acc: 0.8996\n",
            "Epoch 50/100\n",
            "508/508 [==============================] - 7s 14ms/sample - loss: 2.6125 - dense_7_loss: 0.3838 - dense_8_loss: 0.2897 - dense_7_acc: 0.7992 - dense_8_acc: 0.9114\n",
            "Epoch 51/100\n",
            "508/508 [==============================] - 7s 14ms/sample - loss: 2.6277 - dense_7_loss: 0.4052 - dense_8_loss: 0.3149 - dense_7_acc: 0.7933 - dense_8_acc: 0.8858\n",
            "Epoch 52/100\n",
            "508/508 [==============================] - 7s 14ms/sample - loss: 2.6257 - dense_7_loss: 0.3802 - dense_8_loss: 0.3001 - dense_7_acc: 0.7972 - dense_8_acc: 0.8996\n",
            "Epoch 53/100\n",
            "508/508 [==============================] - 7s 14ms/sample - loss: 2.6085 - dense_7_loss: 0.3926 - dense_8_loss: 0.3318 - dense_7_acc: 0.8110 - dense_8_acc: 0.8780\n",
            "Epoch 54/100\n",
            "508/508 [==============================] - 7s 14ms/sample - loss: 2.5886 - dense_7_loss: 0.3967 - dense_8_loss: 0.3210 - dense_7_acc: 0.8130 - dense_8_acc: 0.8819\n",
            "Epoch 55/100\n",
            "508/508 [==============================] - 7s 14ms/sample - loss: 2.6114 - dense_7_loss: 0.3723 - dense_8_loss: 0.2931 - dense_7_acc: 0.8150 - dense_8_acc: 0.8917\n",
            "Epoch 56/100\n",
            "508/508 [==============================] - 7s 14ms/sample - loss: 2.5843 - dense_7_loss: 0.3881 - dense_8_loss: 0.3386 - dense_7_acc: 0.8268 - dense_8_acc: 0.8661\n",
            "Epoch 57/100\n",
            "508/508 [==============================] - 7s 14ms/sample - loss: 2.5750 - dense_7_loss: 0.3721 - dense_8_loss: 0.3124 - dense_7_acc: 0.8386 - dense_8_acc: 0.8799\n",
            "Epoch 58/100\n",
            "508/508 [==============================] - 7s 14ms/sample - loss: 2.5533 - dense_7_loss: 0.3689 - dense_8_loss: 0.2994 - dense_7_acc: 0.8268 - dense_8_acc: 0.8917\n",
            "Epoch 59/100\n",
            "508/508 [==============================] - 7s 14ms/sample - loss: 2.5375 - dense_7_loss: 0.3734 - dense_8_loss: 0.3106 - dense_7_acc: 0.8307 - dense_8_acc: 0.8839\n",
            "Epoch 60/100\n",
            "508/508 [==============================] - 7s 14ms/sample - loss: 2.5219 - dense_7_loss: 0.3563 - dense_8_loss: 0.3006 - dense_7_acc: 0.8406 - dense_8_acc: 0.8878\n",
            "Epoch 61/100\n",
            "508/508 [==============================] - 7s 14ms/sample - loss: 2.5174 - dense_7_loss: 0.3615 - dense_8_loss: 0.3076 - dense_7_acc: 0.8524 - dense_8_acc: 0.8858\n",
            "Epoch 62/100\n",
            "508/508 [==============================] - 7s 14ms/sample - loss: 2.4986 - dense_7_loss: 0.3399 - dense_8_loss: 0.2970 - dense_7_acc: 0.8642 - dense_8_acc: 0.8839\n",
            "Epoch 63/100\n",
            "508/508 [==============================] - 7s 14ms/sample - loss: 2.4934 - dense_7_loss: 0.3435 - dense_8_loss: 0.2969 - dense_7_acc: 0.8642 - dense_8_acc: 0.8898\n",
            "Epoch 64/100\n",
            "508/508 [==============================] - 7s 14ms/sample - loss: 2.4737 - dense_7_loss: 0.3305 - dense_8_loss: 0.2905 - dense_7_acc: 0.8740 - dense_8_acc: 0.8898\n",
            "Epoch 65/100\n",
            "508/508 [==============================] - 7s 14ms/sample - loss: 2.4680 - dense_7_loss: 0.3282 - dense_8_loss: 0.2901 - dense_7_acc: 0.8720 - dense_8_acc: 0.8898\n",
            "Epoch 66/100\n",
            "508/508 [==============================] - 7s 14ms/sample - loss: 2.4638 - dense_7_loss: 0.3220 - dense_8_loss: 0.2835 - dense_7_acc: 0.8780 - dense_8_acc: 0.8917\n",
            "Epoch 67/100\n",
            "508/508 [==============================] - 7s 14ms/sample - loss: 2.4516 - dense_7_loss: 0.3271 - dense_8_loss: 0.2940 - dense_7_acc: 0.8799 - dense_8_acc: 0.8878\n",
            "Epoch 68/100\n",
            "508/508 [==============================] - 7s 14ms/sample - loss: 2.4458 - dense_7_loss: 0.3169 - dense_8_loss: 0.2861 - dense_7_acc: 0.8780 - dense_8_acc: 0.8839\n",
            "Epoch 69/100\n",
            "508/508 [==============================] - 7s 13ms/sample - loss: 2.4355 - dense_7_loss: 0.3249 - dense_8_loss: 0.2928 - dense_7_acc: 0.8839 - dense_8_acc: 0.8839\n",
            "Epoch 70/100\n",
            "508/508 [==============================] - 7s 14ms/sample - loss: 2.4274 - dense_7_loss: 0.3047 - dense_8_loss: 0.2875 - dense_7_acc: 0.8917 - dense_8_acc: 0.8819\n",
            "Epoch 71/100\n",
            "508/508 [==============================] - 7s 14ms/sample - loss: 2.4096 - dense_7_loss: 0.3084 - dense_8_loss: 0.2866 - dense_7_acc: 0.8898 - dense_8_acc: 0.8858\n",
            "Epoch 72/100\n",
            "508/508 [==============================] - 7s 14ms/sample - loss: 2.4026 - dense_7_loss: 0.2993 - dense_8_loss: 0.2833 - dense_7_acc: 0.8898 - dense_8_acc: 0.8819\n",
            "Epoch 73/100\n",
            "508/508 [==============================] - 7s 14ms/sample - loss: 2.3921 - dense_7_loss: 0.3029 - dense_8_loss: 0.2817 - dense_7_acc: 0.8996 - dense_8_acc: 0.8858\n",
            "Epoch 74/100\n",
            "508/508 [==============================] - 7s 14ms/sample - loss: 2.3841 - dense_7_loss: 0.3049 - dense_8_loss: 0.2882 - dense_7_acc: 0.8937 - dense_8_acc: 0.8858\n",
            "Epoch 75/100\n",
            "508/508 [==============================] - 7s 14ms/sample - loss: 2.3856 - dense_7_loss: 0.3000 - dense_8_loss: 0.2829 - dense_7_acc: 0.9016 - dense_8_acc: 0.8819\n",
            "Epoch 76/100\n",
            "508/508 [==============================] - 7s 14ms/sample - loss: 2.3810 - dense_7_loss: 0.2980 - dense_8_loss: 0.2877 - dense_7_acc: 0.9016 - dense_8_acc: 0.8780\n",
            "Epoch 77/100\n",
            "508/508 [==============================] - 7s 14ms/sample - loss: 2.3727 - dense_7_loss: 0.2846 - dense_8_loss: 0.2823 - dense_7_acc: 0.9094 - dense_8_acc: 0.8858\n",
            "Epoch 78/100\n",
            "508/508 [==============================] - 7s 14ms/sample - loss: 2.3761 - dense_7_loss: 0.2775 - dense_8_loss: 0.2862 - dense_7_acc: 0.9154 - dense_8_acc: 0.8799\n",
            "Epoch 79/100\n",
            "508/508 [==============================] - 7s 14ms/sample - loss: 2.3557 - dense_7_loss: 0.2865 - dense_8_loss: 0.2864 - dense_7_acc: 0.9094 - dense_8_acc: 0.8839\n",
            "Epoch 80/100\n",
            "508/508 [==============================] - 7s 14ms/sample - loss: 2.3546 - dense_7_loss: 0.2801 - dense_8_loss: 0.2695 - dense_7_acc: 0.9075 - dense_8_acc: 0.8858\n",
            "Epoch 81/100\n",
            "508/508 [==============================] - 7s 14ms/sample - loss: 2.3470 - dense_7_loss: 0.2879 - dense_8_loss: 0.2735 - dense_7_acc: 0.9055 - dense_8_acc: 0.8858\n",
            "Epoch 82/100\n",
            "508/508 [==============================] - 7s 14ms/sample - loss: 2.3445 - dense_7_loss: 0.2865 - dense_8_loss: 0.2898 - dense_7_acc: 0.9075 - dense_8_acc: 0.8819\n",
            "Epoch 83/100\n",
            "508/508 [==============================] - 7s 14ms/sample - loss: 2.3227 - dense_7_loss: 0.2651 - dense_8_loss: 0.2636 - dense_7_acc: 0.9114 - dense_8_acc: 0.8878\n",
            "Epoch 84/100\n",
            "508/508 [==============================] - 7s 14ms/sample - loss: 2.3280 - dense_7_loss: 0.2889 - dense_8_loss: 0.2957 - dense_7_acc: 0.9094 - dense_8_acc: 0.8720\n",
            "Epoch 85/100\n",
            "508/508 [==============================] - 7s 14ms/sample - loss: 2.3283 - dense_7_loss: 0.2753 - dense_8_loss: 0.2621 - dense_7_acc: 0.9055 - dense_8_acc: 0.8858\n",
            "Epoch 86/100\n",
            "508/508 [==============================] - 7s 14ms/sample - loss: 2.3412 - dense_7_loss: 0.2851 - dense_8_loss: 0.2716 - dense_7_acc: 0.8996 - dense_8_acc: 0.8898\n",
            "Epoch 87/100\n",
            "508/508 [==============================] - 7s 14ms/sample - loss: 2.3260 - dense_7_loss: 0.2936 - dense_8_loss: 0.2817 - dense_7_acc: 0.9016 - dense_8_acc: 0.8819\n",
            "Epoch 88/100\n",
            "508/508 [==============================] - 7s 14ms/sample - loss: 2.3244 - dense_7_loss: 0.2851 - dense_8_loss: 0.2665 - dense_7_acc: 0.9016 - dense_8_acc: 0.8917\n",
            "Epoch 89/100\n",
            "508/508 [==============================] - 7s 14ms/sample - loss: 2.3252 - dense_7_loss: 0.2847 - dense_8_loss: 0.2573 - dense_7_acc: 0.8996 - dense_8_acc: 0.8937\n",
            "Epoch 90/100\n",
            "508/508 [==============================] - 7s 14ms/sample - loss: 2.3241 - dense_7_loss: 0.2769 - dense_8_loss: 0.2577 - dense_7_acc: 0.9016 - dense_8_acc: 0.8957\n",
            "Epoch 91/100\n",
            "508/508 [==============================] - 7s 14ms/sample - loss: 2.3120 - dense_7_loss: 0.2695 - dense_8_loss: 0.2534 - dense_7_acc: 0.9075 - dense_8_acc: 0.9016\n",
            "Epoch 92/100\n",
            "508/508 [==============================] - 7s 14ms/sample - loss: 2.3267 - dense_7_loss: 0.2980 - dense_8_loss: 0.3081 - dense_7_acc: 0.9035 - dense_8_acc: 0.8524\n",
            "Epoch 93/100\n",
            "508/508 [==============================] - 7s 14ms/sample - loss: 2.3205 - dense_7_loss: 0.2903 - dense_8_loss: 0.2859 - dense_7_acc: 0.9016 - dense_8_acc: 0.8681\n",
            "Epoch 94/100\n",
            "508/508 [==============================] - 7s 14ms/sample - loss: 2.2886 - dense_7_loss: 0.2694 - dense_8_loss: 0.2607 - dense_7_acc: 0.9134 - dense_8_acc: 0.8937\n",
            "Epoch 95/100\n",
            "508/508 [==============================] - 7s 14ms/sample - loss: 2.2719 - dense_7_loss: 0.2782 - dense_8_loss: 0.2585 - dense_7_acc: 0.9075 - dense_8_acc: 0.8917\n",
            "Epoch 96/100\n",
            "508/508 [==============================] - 7s 14ms/sample - loss: 2.2724 - dense_7_loss: 0.2734 - dense_8_loss: 0.2698 - dense_7_acc: 0.9114 - dense_8_acc: 0.8878\n",
            "Epoch 97/100\n",
            "508/508 [==============================] - 7s 14ms/sample - loss: 2.2903 - dense_7_loss: 0.2823 - dense_8_loss: 0.2615 - dense_7_acc: 0.9016 - dense_8_acc: 0.8937\n",
            "Epoch 98/100\n",
            "508/508 [==============================] - 7s 14ms/sample - loss: 2.3115 - dense_7_loss: 0.2833 - dense_8_loss: 0.2733 - dense_7_acc: 0.9094 - dense_8_acc: 0.8917\n",
            "Epoch 99/100\n",
            "508/508 [==============================] - 7s 14ms/sample - loss: 2.3179 - dense_7_loss: 0.2924 - dense_8_loss: 0.3008 - dense_7_acc: 0.9035 - dense_8_acc: 0.8563\n",
            "Epoch 100/100\n",
            "508/508 [==============================] - 7s 14ms/sample - loss: 2.2964 - dense_7_loss: 0.2818 - dense_8_loss: 0.3012 - dense_7_acc: 0.9232 - dense_8_acc: 0.8465\n"
          ],
          "name": "stdout"
        },
        {
          "output_type": "execute_result",
          "data": {
            "text/plain": [
              "<tensorflow.python.keras.callbacks.History at 0x7fc7a692edd8>"
            ]
          },
          "metadata": {
            "tags": []
          },
          "execution_count": 10
        }
      ]
    },
    {
      "cell_type": "code",
      "metadata": {
        "colab_type": "code",
        "id": "zP9D5MuE_NbY",
        "colab": {
          "base_uri": "https://localhost:8080/",
          "height": 52
        },
        "outputId": "d320cc6e-980b-42c2-8c95-406b03a3efca"
      },
      "source": [
        "final.evaluate(x, [y1,y2], verbose=1)"
      ],
      "execution_count": 11,
      "outputs": [
        {
          "output_type": "stream",
          "text": [
            "508/508 [==============================] - 4s 8ms/sample - loss: 2.2652 - dense_7_loss: 0.2513 - dense_8_loss: 0.2898 - dense_7_acc: 0.9213 - dense_8_acc: 0.8524\n"
          ],
          "name": "stdout"
        },
        {
          "output_type": "execute_result",
          "data": {
            "text/plain": [
              "[2.2652059164572886, 0.25130844, 0.2897553, 0.9212598, 0.8523622]"
            ]
          },
          "metadata": {
            "tags": []
          },
          "execution_count": 11
        }
      ]
    },
    {
      "cell_type": "code",
      "metadata": {
        "colab_type": "code",
        "id": "w4079RY5Xijh",
        "colab": {}
      },
      "source": [
        "final.save('model_1.h5')"
      ],
      "execution_count": 0,
      "outputs": []
    },
    {
      "cell_type": "code",
      "metadata": {
        "colab_type": "code",
        "id": "clBhx--tAJ3O",
        "colab": {
          "base_uri": "https://localhost:8080/",
          "height": 34
        },
        "outputId": "7a2f3043-34a8-47b3-b80d-beb23979e665"
      },
      "source": [
        "!pwd"
      ],
      "execution_count": 13,
      "outputs": [
        {
          "output_type": "stream",
          "text": [
            "/content\n"
          ],
          "name": "stdout"
        }
      ]
    },
    {
      "cell_type": "code",
      "metadata": {
        "colab_type": "code",
        "id": "SP4OFw4bX4N5",
        "colab": {}
      },
      "source": [
        "import zipfile\n",
        "import os\n",
        "def zipfolder(foldername, target_dir):            \n",
        "    zipobj = zipfile.ZipFile(foldername + '.zip', 'w', zipfile.ZIP_DEFLATED)\n",
        "    rootlen = len(target_dir) + 1\n",
        "    for base, dirs, files in os.walk(target_dir):\n",
        "        for file in files:\n",
        "            fn = os.path.join(base, file)\n",
        "            zipobj.write(fn, fn[rootlen:])"
      ],
      "execution_count": 0,
      "outputs": []
    },
    {
      "cell_type": "code",
      "metadata": {
        "colab_type": "code",
        "id": "SS9BzRZCM4qq",
        "colab": {}
      },
      "source": [
        "zipfolder('logs',\"./logs\")"
      ],
      "execution_count": 0,
      "outputs": []
    },
    {
      "cell_type": "code",
      "metadata": {
        "colab_type": "code",
        "id": "dsp6shsSOW5H",
        "colab": {}
      },
      "source": [
        "!rm -rf logs"
      ],
      "execution_count": 0,
      "outputs": []
    },
    {
      "cell_type": "code",
      "metadata": {
        "colab_type": "code",
        "id": "vBlOHE6rvh7f",
        "colab": {}
      },
      "source": [
        ""
      ],
      "execution_count": 0,
      "outputs": []
    }
  ]
}