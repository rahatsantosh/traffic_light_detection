{
 "cells": [
  {
   "cell_type": "code",
   "execution_count": 0,
   "metadata": {
    "colab": {
     "base_uri": "https://localhost:8080/",
     "height": 69
    },
    "colab_type": "code",
    "id": "Wc7CXIkmUPvq",
    "outputId": "fa96534b-5160-40df-d25c-0b04805d0985"
   },
   "outputs": [
    {
     "name": "stdout",
     "output_type": "stream",
     "text": [
      "Archive:  data.zip\n",
      "  inflating: data.pickle             \n",
      "  inflating: label.pickle            \n"
     ]
    }
   ],
   "source": [
    "!unzip data.zip"
   ]
  },
  {
   "cell_type": "code",
   "execution_count": 19,
   "metadata": {
    "colab": {
     "base_uri": "https://localhost:8080/",
     "height": 124
    },
    "colab_type": "code",
    "id": "_5uET4Vxr7Ga",
    "outputId": "e330afac-500a-4942-a3c8-3b77bd762c07"
   },
   "outputs": [
    {
     "name": "stdout",
     "output_type": "stream",
     "text": [
      "Go to this URL in a browser: https://accounts.google.com/o/oauth2/auth?client_id=947318989803-6bn6qk8qdgf4n4g3pfee6491hc0brc4i.apps.googleusercontent.com&redirect_uri=urn%3aietf%3awg%3aoauth%3a2.0%3aoob&response_type=code&scope=email%20https%3a%2f%2fwww.googleapis.com%2fauth%2fdocs.test%20https%3a%2f%2fwww.googleapis.com%2fauth%2fdrive%20https%3a%2f%2fwww.googleapis.com%2fauth%2fdrive.photos.readonly%20https%3a%2f%2fwww.googleapis.com%2fauth%2fpeopleapi.readonly\n",
      "\n",
      "Enter your authorization code:\n",
      "··········\n",
      "Mounted at /content/drive\n"
     ]
    }
   ],
   "source": [
    "from google.colab import drive\n",
    "drive.mount('/content/drive')"
   ]
  },
  {
   "cell_type": "code",
   "execution_count": 0,
   "metadata": {
    "colab": {},
    "colab_type": "code",
    "id": "USGrxsO2sMsI"
   },
   "outputs": [],
   "source": [
    "!cp \"drive/My Drive/traffic_model/data.pickle\" .\n",
    "!cp \"drive/My Drive/traffic_model/label.pickle\" ."
   ]
  },
  {
   "cell_type": "code",
   "execution_count": 2,
   "metadata": {
    "colab": {
     "base_uri": "https://localhost:8080/",
     "height": 64
    },
    "colab_type": "code",
    "id": "prG9FuDYZSwN",
    "outputId": "4e1d7489-da8b-4772-a08c-bff70ad39a1f"
   },
   "outputs": [
    {
     "data": {
      "text/html": [
       "<p style=\"color: red;\">\n",
       "The default version of TensorFlow in Colab will soon switch to TensorFlow 2.x.<br>\n",
       "We recommend you <a href=\"https://www.tensorflow.org/guide/migrate\" target=\"_blank\">upgrade</a> now \n",
       "or ensure your notebook will continue to use TensorFlow 1.x via the <code>%tensorflow_version 1.x</code> magic:\n",
       "<a href=\"https://colab.research.google.com/notebooks/tensorflow_version.ipynb\" target=\"_blank\">more info</a>.</p>\n"
      ],
      "text/plain": [
       "<IPython.core.display.HTML object>"
      ]
     },
     "metadata": {
      "tags": []
     },
     "output_type": "display_data"
    }
   ],
   "source": [
    "import pickle\n",
    "import pandas as pd\n",
    "import numpy as np\n",
    "import tensorflow as tf\n",
    "\n",
    "x = pickle.load(open('data.pickle','rb'))\n",
    "y = pickle.load(open('label.pickle','rb'))"
   ]
  },
  {
   "cell_type": "code",
   "execution_count": 3,
   "metadata": {
    "colab": {
     "base_uri": "https://localhost:8080/",
     "height": 52
    },
    "colab_type": "code",
    "id": "HYPxwz2hUPv1",
    "outputId": "7464b94d-66f3-415b-bd60-65375c258d6a"
   },
   "outputs": [
    {
     "name": "stdout",
     "output_type": "stream",
     "text": [
      "(508, 1, 299, 299, 3)\n",
      "(508, 299, 299, 3)\n"
     ]
    }
   ],
   "source": [
    "print(np.shape(x))\n",
    "x=np.reshape(x,(508,299,299,3))\n",
    "print(np.shape(x))"
   ]
  },
  {
   "cell_type": "code",
   "execution_count": 4,
   "metadata": {
    "colab": {
     "base_uri": "https://localhost:8080/",
     "height": 156
    },
    "colab_type": "code",
    "id": "nz8afNuTUPv_",
    "outputId": "20998f81-01a6-4b7d-de11-375877cd8e18"
   },
   "outputs": [
    {
     "name": "stdout",
     "output_type": "stream",
     "text": [
      "(508, 2)\n",
      "[[0 0]\n",
      " [1 0]\n",
      " [1 0]\n",
      " ...\n",
      " [0 0]\n",
      " [0 0]\n",
      " [0 0]]\n"
     ]
    }
   ],
   "source": [
    "print(np.shape(y))\n",
    "y = np.asarray(y)\n",
    "print(y)"
   ]
  },
  {
   "cell_type": "code",
   "execution_count": 0,
   "metadata": {
    "colab": {},
    "colab_type": "code",
    "id": "P8ouQZPPs5mR"
   },
   "outputs": [],
   "source": [
    "y1 = np.empty((508,), dtype = int)\n",
    "y2 = np.empty((508,), dtype = int)\n",
    "\n",
    "y1[:] = y[:,0]\n",
    "y2[:] = y[:,1]"
   ]
  },
  {
   "cell_type": "code",
   "execution_count": 6,
   "metadata": {
    "colab": {
     "base_uri": "https://localhost:8080/",
     "height": 89
    },
    "colab_type": "code",
    "id": "mf6xQcWsUPwH",
    "outputId": "afb5214a-216b-4ab0-9b91-299b0120641d"
   },
   "outputs": [
    {
     "name": "stdout",
     "output_type": "stream",
     "text": [
      "WARNING:tensorflow:From /usr/local/lib/python3.6/dist-packages/tensorflow_core/python/ops/resource_variable_ops.py:1630: calling BaseResourceVariable.__init__ (from tensorflow.python.ops.resource_variable_ops) with constraint is deprecated and will be removed in a future version.\n",
      "Instructions for updating:\n",
      "If using Keras pass *_constraint arguments to layers.\n"
     ]
    }
   ],
   "source": [
    "from tensorflow.keras import regularizers, Model\n",
    "from tensorflow.keras.metrics import Recall,Precision\n",
    "from tensorflow.keras.models import Sequential\n",
    "from tensorflow.keras.layers import Dense,Flatten,Dropout,Activation,Conv2D,MaxPooling2D,Dropout,Input\n",
    "import tensorflow as tf\n",
    "\n",
    "\n",
    "model0 = Input(shape = (299,299,3))\n",
    "\n",
    "model = Conv2D(64, (3,3), activation='relu')(model0)\n",
    "model = MaxPooling2D(2, 2)(model)\n",
    "\n",
    "model = Conv2D(128, (3,3), activation='relu')(model)\n",
    "model = MaxPooling2D(2, 2)(model)\n",
    "\n",
    "model = Conv2D(128, (3,3), activation='relu')(model)\n",
    "model = MaxPooling2D(2, 2)(model)\n",
    "\n",
    "model = Conv2D(128, (3,3), activation='relu')(model)\n",
    "model = MaxPooling2D(2, 2)(model)\n",
    "\n",
    "model = Flatten()(model)\n",
    "\n",
    "model = Dense(128,kernel_regularizer=regularizers.l2(0.01),activity_regularizer=regularizers.l1(0.01), activation = 'relu')(model)\n",
    "\n",
    "model = Dense(64,kernel_regularizer=regularizers.l2(0.01),activity_regularizer=regularizers.l1(0.01), activation = 'relu')(model)\n",
    "\n",
    "model = Dropout(0.2)(model)\n",
    "\n",
    "model = Dense(32,kernel_regularizer=regularizers.l2(0.01),activity_regularizer=regularizers.l1(0.01), activation = 'relu')(model)\n"
   ]
  },
  {
   "cell_type": "code",
   "execution_count": 7,
   "metadata": {
    "colab": {
     "base_uri": "https://localhost:8080/",
     "height": 784
    },
    "colab_type": "code",
    "id": "FT1TK2NklLHf",
    "outputId": "f9631382-dbee-468b-cfd1-c73ddf2100ec"
   },
   "outputs": [
    {
     "name": "stdout",
     "output_type": "stream",
     "text": [
      "WARNING:tensorflow:From /usr/local/lib/python3.6/dist-packages/tensorflow_core/python/ops/nn_impl.py:183: where (from tensorflow.python.ops.array_ops) is deprecated and will be removed in a future version.\n",
      "Instructions for updating:\n",
      "Use tf.where in 2.0, which has the same broadcast rule as np.where\n",
      "Model: \"model\"\n",
      "__________________________________________________________________________________________________\n",
      "Layer (type)                    Output Shape         Param #     Connected to                     \n",
      "==================================================================================================\n",
      "input_1 (InputLayer)            [(None, 299, 299, 3) 0                                            \n",
      "__________________________________________________________________________________________________\n",
      "conv2d (Conv2D)                 (None, 297, 297, 64) 1792        input_1[0][0]                    \n",
      "__________________________________________________________________________________________________\n",
      "max_pooling2d (MaxPooling2D)    (None, 148, 148, 64) 0           conv2d[0][0]                     \n",
      "__________________________________________________________________________________________________\n",
      "conv2d_1 (Conv2D)               (None, 146, 146, 128 73856       max_pooling2d[0][0]              \n",
      "__________________________________________________________________________________________________\n",
      "max_pooling2d_1 (MaxPooling2D)  (None, 73, 73, 128)  0           conv2d_1[0][0]                   \n",
      "__________________________________________________________________________________________________\n",
      "conv2d_2 (Conv2D)               (None, 71, 71, 128)  147584      max_pooling2d_1[0][0]            \n",
      "__________________________________________________________________________________________________\n",
      "max_pooling2d_2 (MaxPooling2D)  (None, 35, 35, 128)  0           conv2d_2[0][0]                   \n",
      "__________________________________________________________________________________________________\n",
      "conv2d_3 (Conv2D)               (None, 33, 33, 128)  147584      max_pooling2d_2[0][0]            \n",
      "__________________________________________________________________________________________________\n",
      "max_pooling2d_3 (MaxPooling2D)  (None, 16, 16, 128)  0           conv2d_3[0][0]                   \n",
      "__________________________________________________________________________________________________\n",
      "flatten (Flatten)               (None, 32768)        0           max_pooling2d_3[0][0]            \n",
      "__________________________________________________________________________________________________\n",
      "dense (Dense)                   (None, 128)          4194432     flatten[0][0]                    \n",
      "__________________________________________________________________________________________________\n",
      "dense_1 (Dense)                 (None, 64)           8256        dense[0][0]                      \n",
      "__________________________________________________________________________________________________\n",
      "dropout (Dropout)               (None, 64)           0           dense_1[0][0]                    \n",
      "__________________________________________________________________________________________________\n",
      "dense_2 (Dense)                 (None, 32)           2080        dropout[0][0]                    \n",
      "__________________________________________________________________________________________________\n",
      "dense_3 (Dense)                 (None, 1)            33          dense_2[0][0]                    \n",
      "__________________________________________________________________________________________________\n",
      "dense_4 (Dense)                 (None, 1)            33          dense_2[0][0]                    \n",
      "==================================================================================================\n",
      "Total params: 4,575,650\n",
      "Trainable params: 4,575,650\n",
      "Non-trainable params: 0\n",
      "__________________________________________________________________________________________________\n"
     ]
    }
   ],
   "source": [
    "model1 = Dense(1, activation = \"sigmoid\")(model)\n",
    "\n",
    "model2 = Dense(1, activation = \"sigmoid\")(model)\n",
    "\n",
    "final = Model(inputs = [model0], outputs = [model1, model2])\n",
    "\n",
    "final.compile(optimizer=tf.keras.optimizers.Adam(),\n",
    "              loss='binary_crossentropy',\n",
    "              metrics=['accuracy'])\n",
    "\n",
    "final.summary()"
   ]
  },
  {
   "cell_type": "code",
   "execution_count": 8,
   "metadata": {
    "colab": {
     "base_uri": "https://localhost:8080/",
     "height": 52
    },
    "colab_type": "code",
    "id": "OtPCIibyUPwP",
    "outputId": "cd1cef03-1144-4701-8f24-3929357f6aed"
   },
   "outputs": [
    {
     "name": "stdout",
     "output_type": "stream",
     "text": [
      "WARNING:tensorflow:`period` argument is deprecated. Please use `save_freq` to specify the frequency in number of samples seen.\n"
     ]
    },
    {
     "name": "stderr",
     "output_type": "stream",
     "text": [
      "Using TensorFlow backend.\n"
     ]
    }
   ],
   "source": [
    "import keras\n",
    "from tensorflow.keras.callbacks import EarlyStopping,CSVLogger,ModelCheckpoint,TensorBoard\n",
    "filename=\"metrics.csv\"\n",
    "es=EarlyStopping(monitor='loss', min_delta=0, patience=3, mode='min', baseline=None, restore_best_weights=True)\n",
    "csv=CSVLogger(filename, separator=',', append=False)\n",
    "checkpoint=ModelCheckpoint(\"weights.{epoch}-{val_acc:.2f}.hdf5\", monitor='val_acc', verbose=0, save_best_only=False, save_weights_only=False, mode='auto', period=1)\n",
    "tensorboard=TensorBoard(log_dir='./logs', histogram_freq=0, batch_size=32, write_graph=True, write_grads=False, write_images=False, embeddings_freq=0, embeddings_layer_names=None, embeddings_metadata=None, embeddings_data=None, update_freq='epoch')"
   ]
  },
  {
   "cell_type": "code",
   "execution_count": 9,
   "metadata": {
    "colab": {
     "base_uri": "https://localhost:8080/",
     "height": 920
    },
    "colab_type": "code",
    "id": "syh57sj4UPwX",
    "outputId": "6e5eb38c-9427-4640-bf2a-7e33c1cb4340"
   },
   "outputs": [
    {
     "name": "stdout",
     "output_type": "stream",
     "text": [
      "Train on 508 samples\n",
      "Epoch 1/25\n",
      "508/508 [==============================] - 14s 29ms/sample - loss: 16.0400 - dense_3_loss: 1.9794 - dense_4_loss: 2.2003 - dense_3_acc: 0.5394 - dense_4_acc: 0.4843\n",
      "Epoch 2/25\n",
      "508/508 [==============================] - 5s 10ms/sample - loss: 4.8416 - dense_3_loss: 0.6878 - dense_4_loss: 0.6866 - dense_3_acc: 0.7598 - dense_4_acc: 0.7618\n",
      "Epoch 3/25\n",
      "508/508 [==============================] - 5s 10ms/sample - loss: 4.7855 - dense_3_loss: 0.6826 - dense_4_loss: 0.6808 - dense_3_acc: 0.7598 - dense_4_acc: 0.7638\n",
      "Epoch 4/25\n",
      "508/508 [==============================] - 5s 10ms/sample - loss: 4.6418 - dense_3_loss: 0.6758 - dense_4_loss: 0.6744 - dense_3_acc: 0.7598 - dense_4_acc: 0.7657\n",
      "Epoch 5/25\n",
      "508/508 [==============================] - 5s 10ms/sample - loss: 4.4679 - dense_3_loss: 0.6696 - dense_4_loss: 0.6685 - dense_3_acc: 0.7598 - dense_4_acc: 0.7657\n",
      "Epoch 6/25\n",
      "508/508 [==============================] - 5s 10ms/sample - loss: 4.2978 - dense_3_loss: 0.6630 - dense_4_loss: 0.6625 - dense_3_acc: 0.7598 - dense_4_acc: 0.7657\n",
      "Epoch 7/25\n",
      "508/508 [==============================] - 5s 10ms/sample - loss: 4.1660 - dense_3_loss: 0.6598 - dense_4_loss: 0.6625 - dense_3_acc: 0.7461 - dense_4_acc: 0.7441\n",
      "Epoch 8/25\n",
      "508/508 [==============================] - 5s 10ms/sample - loss: 3.9924 - dense_3_loss: 0.6516 - dense_4_loss: 0.6512 - dense_3_acc: 0.7598 - dense_4_acc: 0.7657\n",
      "Epoch 9/25\n",
      "508/508 [==============================] - 5s 10ms/sample - loss: 3.8573 - dense_3_loss: 0.6456 - dense_4_loss: 0.6455 - dense_3_acc: 0.7598 - dense_4_acc: 0.7657\n",
      "Epoch 10/25\n",
      "508/508 [==============================] - 5s 10ms/sample - loss: 3.7343 - dense_3_loss: 0.6399 - dense_4_loss: 0.6391 - dense_3_acc: 0.7598 - dense_4_acc: 0.7657\n",
      "Epoch 11/25\n",
      "508/508 [==============================] - 5s 10ms/sample - loss: 3.6224 - dense_3_loss: 0.6350 - dense_4_loss: 0.6333 - dense_3_acc: 0.7598 - dense_4_acc: 0.7657\n",
      "Epoch 12/25\n",
      "508/508 [==============================] - 5s 10ms/sample - loss: 3.5171 - dense_3_loss: 0.6280 - dense_4_loss: 0.6275 - dense_3_acc: 0.7598 - dense_4_acc: 0.7657\n",
      "Epoch 13/25\n",
      "508/508 [==============================] - 5s 10ms/sample - loss: 3.4215 - dense_3_loss: 0.6234 - dense_4_loss: 0.6216 - dense_3_acc: 0.7598 - dense_4_acc: 0.7657\n",
      "Epoch 14/25\n",
      "508/508 [==============================] - 5s 10ms/sample - loss: 3.3326 - dense_3_loss: 0.6185 - dense_4_loss: 0.6159 - dense_3_acc: 0.7598 - dense_4_acc: 0.7657\n",
      "Epoch 15/25\n",
      "508/508 [==============================] - 5s 10ms/sample - loss: 3.2490 - dense_3_loss: 0.6139 - dense_4_loss: 0.6082 - dense_3_acc: 0.7598 - dense_4_acc: 0.7657\n",
      "Epoch 16/25\n",
      "508/508 [==============================] - 5s 10ms/sample - loss: 3.1708 - dense_3_loss: 0.6083 - dense_4_loss: 0.6028 - dense_3_acc: 0.7598 - dense_4_acc: 0.7657\n",
      "Epoch 17/25\n",
      "508/508 [==============================] - 5s 10ms/sample - loss: 3.0996 - dense_3_loss: 0.6038 - dense_4_loss: 0.5976 - dense_3_acc: 0.7598 - dense_4_acc: 0.7657\n",
      "Epoch 18/25\n",
      "508/508 [==============================] - 5s 10ms/sample - loss: 3.0316 - dense_3_loss: 0.5994 - dense_4_loss: 0.5920 - dense_3_acc: 0.7598 - dense_4_acc: 0.7657\n",
      "Epoch 19/25\n",
      "508/508 [==============================] - 5s 10ms/sample - loss: 2.9655 - dense_3_loss: 0.5933 - dense_4_loss: 0.5860 - dense_3_acc: 0.7598 - dense_4_acc: 0.7657\n",
      "Epoch 20/25\n",
      "508/508 [==============================] - 5s 10ms/sample - loss: 2.9060 - dense_3_loss: 0.5895 - dense_4_loss: 0.5815 - dense_3_acc: 0.7598 - dense_4_acc: 0.7657\n",
      "Epoch 21/25\n",
      "508/508 [==============================] - 5s 10ms/sample - loss: 2.8492 - dense_3_loss: 0.5849 - dense_4_loss: 0.5769 - dense_3_acc: 0.7598 - dense_4_acc: 0.7657\n",
      "Epoch 22/25\n",
      "508/508 [==============================] - 5s 10ms/sample - loss: 2.7957 - dense_3_loss: 0.5799 - dense_4_loss: 0.5739 - dense_3_acc: 0.7598 - dense_4_acc: 0.7657\n",
      "Epoch 23/25\n",
      "508/508 [==============================] - 5s 10ms/sample - loss: 2.7464 - dense_3_loss: 0.5791 - dense_4_loss: 0.5678 - dense_3_acc: 0.7598 - dense_4_acc: 0.7657\n",
      "Epoch 24/25\n",
      "508/508 [==============================] - 5s 10ms/sample - loss: 2.6982 - dense_3_loss: 0.5744 - dense_4_loss: 0.5654 - dense_3_acc: 0.7598 - dense_4_acc: 0.7657\n",
      "Epoch 25/25\n",
      "508/508 [==============================] - 5s 10ms/sample - loss: 2.6550 - dense_3_loss: 0.5726 - dense_4_loss: 0.5624 - dense_3_acc: 0.7598 - dense_4_acc: 0.7657\n"
     ]
    },
    {
     "data": {
      "text/plain": [
       "<tensorflow.python.keras.callbacks.History at 0x7fbed18b3f98>"
      ]
     },
     "execution_count": 9,
     "metadata": {
      "tags": []
     },
     "output_type": "execute_result"
    }
   ],
   "source": [
    "final.fit(x, [y1,y2], epochs=25, batch_size=64, callbacks=[tensorboard])"
   ]
  },
  {
   "cell_type": "code",
   "execution_count": 10,
   "metadata": {
    "colab": {
     "base_uri": "https://localhost:8080/",
     "height": 52
    },
    "colab_type": "code",
    "id": "zP9D5MuE_NbY",
    "outputId": "58608942-bb53-46aa-cb06-a503acf2fd5b"
   },
   "outputs": [
    {
     "name": "stdout",
     "output_type": "stream",
     "text": [
      "508/508 [==============================] - 4s 7ms/sample - loss: 2.6282 - dense_3_loss: 0.5698 - dense_4_loss: 0.5594 - dense_3_acc: 0.7598 - dense_4_acc: 0.7657\n"
     ]
    },
    {
     "data": {
      "text/plain": [
       "[2.628245781725786, 0.5697989, 0.55943877, 0.7598425, 0.765748]"
      ]
     },
     "execution_count": 10,
     "metadata": {
      "tags": []
     },
     "output_type": "execute_result"
    }
   ],
   "source": [
    "final.evaluate(x, [y1,y2], verbose=1)"
   ]
  },
  {
   "cell_type": "code",
   "execution_count": 0,
   "metadata": {
    "colab": {},
    "colab_type": "code",
    "id": "w4079RY5Xijh"
   },
   "outputs": [],
   "source": [
    "final.save('model_1.h5')"
   ]
  },
  {
   "cell_type": "code",
   "execution_count": 12,
   "metadata": {
    "colab": {
     "base_uri": "https://localhost:8080/",
     "height": 34
    },
    "colab_type": "code",
    "id": "clBhx--tAJ3O",
    "outputId": "befd32b1-b494-44ea-816e-a9302825605e"
   },
   "outputs": [
    {
     "name": "stdout",
     "output_type": "stream",
     "text": [
      "/content\n"
     ]
    }
   ],
   "source": [
    "!pwd"
   ]
  },
  {
   "cell_type": "code",
   "execution_count": 0,
   "metadata": {
    "colab": {},
    "colab_type": "code",
    "id": "SP4OFw4bX4N5"
   },
   "outputs": [],
   "source": [
    "import zipfile\n",
    "import os\n",
    "def zipfolder(foldername, target_dir):            \n",
    "    zipobj = zipfile.ZipFile(foldername + '.zip', 'w', zipfile.ZIP_DEFLATED)\n",
    "    rootlen = len(target_dir) + 1\n",
    "    for base, dirs, files in os.walk(target_dir):\n",
    "        for file in files:\n",
    "            fn = os.path.join(base, file)\n",
    "            zipobj.write(fn, fn[rootlen:])"
   ]
  },
  {
   "cell_type": "code",
   "execution_count": 0,
   "metadata": {
    "colab": {},
    "colab_type": "code",
    "id": "SS9BzRZCM4qq"
   },
   "outputs": [],
   "source": [
    "zipfolder('logs',\"./logs\")"
   ]
  },
  {
   "cell_type": "code",
   "execution_count": 0,
   "metadata": {
    "colab": {},
    "colab_type": "code",
    "id": "dsp6shsSOW5H"
   },
   "outputs": [],
   "source": [
    "!rm -rf logs"
   ]
  },
  {
   "cell_type": "code",
   "execution_count": 0,
   "metadata": {
    "colab": {},
    "colab_type": "code",
    "id": "vBlOHE6rvh7f"
   },
   "outputs": [],
   "source": []
  }
 ],
 "metadata": {
  "accelerator": "GPU",
  "colab": {
   "collapsed_sections": [],
   "name": "nn_model_train.ipynb",
   "provenance": []
  },
  "kernelspec": {
   "display_name": "Python 3",
   "language": "python",
   "name": "python3"
  },
  "language_info": {
   "codemirror_mode": {
    "name": "ipython",
    "version": 3
   },
   "file_extension": ".py",
   "mimetype": "text/x-python",
   "name": "python",
   "nbconvert_exporter": "python",
   "pygments_lexer": "ipython3",
   "version": "3.7.3"
  }
 },
 "nbformat": 4,
 "nbformat_minor": 1
}
