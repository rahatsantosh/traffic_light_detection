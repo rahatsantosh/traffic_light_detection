{
 "cells": [
  {
   "cell_type": "code",
   "execution_count": 1,
   "metadata": {
    "colab": {
     "base_uri": "https://localhost:8080/",
     "height": 81
    },
    "colab_type": "code",
    "id": "Wc7CXIkmUPvq",
    "outputId": "b97c8370-53f0-4b6b-b722-fc769f52f656"
   },
   "outputs": [
    {
     "data": {
      "text/html": [
       "<p style=\"color: red;\">\n",
       "The default version of TensorFlow in Colab will soon switch to TensorFlow 2.x.<br>\n",
       "We recommend you <a href=\"https://www.tensorflow.org/guide/migrate\" target=\"_blank\">upgrade</a> now \n",
       "or ensure your notebook will continue to use TensorFlow 1.x via the <code>%tensorflow_version 1.x</code> magic:\n",
       "<a href=\"https://colab.research.google.com/notebooks/tensorflow_version.ipynb\" target=\"_blank\">more info</a>.</p>\n"
      ],
      "text/plain": [
       "<IPython.core.display.HTML object>"
      ]
     },
     "metadata": {
      "tags": []
     },
     "output_type": "display_data"
    },
    {
     "name": "stdout",
     "output_type": "stream",
     "text": [
      "(264, 1, 299, 299, 3)\n"
     ]
    }
   ],
   "source": [
    "import pickle\n",
    "import pandas as pd\n",
    "import numpy as np\n",
    "import tensorflow as tf\n",
    "\n",
    "x = pickle.load(open('data.pickle','rb'))\n",
    "y = pickle.load(open('label.pickle','rb'))\n",
    "print(np.shape(x))"
   ]
  },
  {
   "cell_type": "code",
   "execution_count": 3,
   "metadata": {
    "colab": {
     "base_uri": "https://localhost:8080/",
     "height": 52
    },
    "colab_type": "code",
    "id": "HYPxwz2hUPv1",
    "outputId": "a8948694-11e9-4d95-cbb2-9c0518366239"
   },
   "outputs": [
    {
     "name": "stdout",
     "output_type": "stream",
     "text": [
      "(264, 1, 299, 299, 3)\n",
      "(264, 299, 299, 3)\n"
     ]
    }
   ],
   "source": [
    "print(np.shape(x))\n",
    "x=np.reshape(x,(264,299,299,3))\n",
    "print(np.shape(x))"
   ]
  },
  {
   "cell_type": "code",
   "execution_count": 4,
   "metadata": {
    "colab": {
     "base_uri": "https://localhost:8080/",
     "height": 34
    },
    "colab_type": "code",
    "id": "nz8afNuTUPv_",
    "outputId": "56c2aa02-eafc-420b-b69c-c52393c5aa14"
   },
   "outputs": [
    {
     "name": "stdout",
     "output_type": "stream",
     "text": [
      "(264,)\n"
     ]
    }
   ],
   "source": [
    "print(np.shape(y))"
   ]
  },
  {
   "cell_type": "code",
   "execution_count": 5,
   "metadata": {
    "colab": {
     "base_uri": "https://localhost:8080/",
     "height": 89
    },
    "colab_type": "code",
    "id": "mf6xQcWsUPwH",
    "outputId": "65e64c40-f844-4323-e595-09357ccffe61"
   },
   "outputs": [
    {
     "name": "stdout",
     "output_type": "stream",
     "text": [
      "WARNING:tensorflow:From /usr/local/lib/python3.6/dist-packages/tensorflow_core/python/ops/resource_variable_ops.py:1630: calling BaseResourceVariable.__init__ (from tensorflow.python.ops.resource_variable_ops) with constraint is deprecated and will be removed in a future version.\n",
      "Instructions for updating:\n",
      "If using Keras pass *_constraint arguments to layers.\n"
     ]
    }
   ],
   "source": [
    "from tensorflow.keras import regularizers\n",
    "from tensorflow.keras.metrics import Recall,Precision\n",
    "from tensorflow.keras.models import Sequential\n",
    "from tensorflow.keras.layers import Dense,Flatten,Dropout,Activation,Conv2D,MaxPooling2D,Dropout\n",
    "\n",
    "\n",
    "model = Sequential()\n",
    "\n",
    "model.add(Conv2D(32, (3,3), activation='relu', input_shape=(299,299,3)))\n",
    "model.add(MaxPooling2D(2, 2))\n",
    "\n",
    "model.add(Conv2D(128, (3,3), activation='relu'))\n",
    "model.add(MaxPooling2D(2, 2))\n",
    "\n",
    "model.add(Conv2D(128, (3,3), activation='relu'))\n",
    "model.add(MaxPooling2D(2, 2))\n",
    "\n",
    "model.add(Conv2D(128, (3,3), activation='relu'))\n",
    "model.add(MaxPooling2D(2, 2))\n",
    "\n",
    "model.add(Flatten())\n",
    "\n",
    "model.add(Dense(128))\n",
    "model.add(Activation('relu'))\n",
    "\n",
    "model.add(Dense(64))\n",
    "model.add(Activation('relu'))\n",
    "\n",
    "model.add(Dense(5))\n",
    "model.add(Activation('softmax'))\n",
    "\n",
    "\n",
    "model.compile(optimizer=tf.keras.optimizers.Adam(),\n",
    "              loss='sparse_categorical_crossentropy',\n",
    "              metrics=['accuracy'])"
   ]
  },
  {
   "cell_type": "code",
   "execution_count": 6,
   "metadata": {
    "colab": {
     "base_uri": "https://localhost:8080/",
     "height": 52
    },
    "colab_type": "code",
    "id": "OtPCIibyUPwP",
    "outputId": "5ad6aa9b-3756-4840-a481-15a6d60a4664"
   },
   "outputs": [
    {
     "name": "stdout",
     "output_type": "stream",
     "text": [
      "WARNING:tensorflow:`period` argument is deprecated. Please use `save_freq` to specify the frequency in number of samples seen.\n"
     ]
    },
    {
     "name": "stderr",
     "output_type": "stream",
     "text": [
      "Using TensorFlow backend.\n"
     ]
    }
   ],
   "source": [
    "import keras\n",
    "from tensorflow.keras.callbacks import EarlyStopping,CSVLogger,ModelCheckpoint,TensorBoard\n",
    "filename=\"metrics.csv\"\n",
    "es=EarlyStopping(monitor='loss', min_delta=0, patience=2, mode='min', baseline=None, restore_best_weights=True)\n",
    "csv=CSVLogger(filename, separator=',', append=False)\n",
    "checkpoint=ModelCheckpoint(\"weights.{epoch}-{val_acc:.2f}.hdf5\", monitor='val_acc', verbose=0, save_best_only=False, save_weights_only=False, mode='auto', period=1)\n",
    "tensorboard=TensorBoard(log_dir='./logs', histogram_freq=0, batch_size=32, write_graph=True, write_grads=False, write_images=False, embeddings_freq=0, embeddings_layer_names=None, embeddings_metadata=None, embeddings_data=None, update_freq='epoch')"
   ]
  },
  {
   "cell_type": "code",
   "execution_count": 7,
   "metadata": {
    "colab": {
     "base_uri": "https://localhost:8080/",
     "height": 1000
    },
    "colab_type": "code",
    "id": "syh57sj4UPwX",
    "outputId": "c3aba59d-b3cc-4a9b-fe27-cbf210f896f1"
   },
   "outputs": [
    {
     "name": "stdout",
     "output_type": "stream",
     "text": [
      "Train on 264 samples\n",
      "Epoch 1/30\n",
      "264/264 [==============================] - 6s 22ms/sample - loss: 61.0420 - acc: 0.1742\n",
      "Epoch 2/30\n",
      "264/264 [==============================] - 1s 2ms/sample - loss: 1.8827 - acc: 0.3106\n",
      "Epoch 3/30\n",
      "264/264 [==============================] - 1s 2ms/sample - loss: 0.6182 - acc: 0.8182\n",
      "Epoch 4/30\n",
      "264/264 [==============================] - 1s 2ms/sample - loss: 0.8123 - acc: 0.7917\n",
      "Epoch 5/30\n",
      "264/264 [==============================] - 1s 2ms/sample - loss: 0.1962 - acc: 0.9394\n",
      "Epoch 6/30\n",
      "264/264 [==============================] - 1s 2ms/sample - loss: 0.1286 - acc: 0.9545\n",
      "Epoch 7/30\n",
      "264/264 [==============================] - 1s 2ms/sample - loss: 0.0296 - acc: 0.9886\n",
      "Epoch 8/30\n",
      "264/264 [==============================] - 1s 2ms/sample - loss: 0.0166 - acc: 1.0000\n",
      "Epoch 9/30\n",
      "264/264 [==============================] - 1s 2ms/sample - loss: 0.0055 - acc: 1.0000\n",
      "Epoch 10/30\n",
      "264/264 [==============================] - 1s 2ms/sample - loss: 0.0011 - acc: 1.0000\n",
      "Epoch 11/30\n",
      "264/264 [==============================] - 1s 2ms/sample - loss: 0.0014 - acc: 1.0000\n",
      "Epoch 12/30\n",
      "264/264 [==============================] - 1s 2ms/sample - loss: 5.3299e-04 - acc: 1.0000\n",
      "Epoch 13/30\n",
      "264/264 [==============================] - 1s 2ms/sample - loss: 3.8156e-04 - acc: 1.0000\n",
      "Epoch 14/30\n",
      "264/264 [==============================] - 1s 2ms/sample - loss: 2.8957e-04 - acc: 1.0000\n",
      "Epoch 15/30\n",
      "264/264 [==============================] - 1s 2ms/sample - loss: 2.4989e-04 - acc: 1.0000\n",
      "Epoch 16/30\n",
      "264/264 [==============================] - 1s 2ms/sample - loss: 2.0778e-04 - acc: 1.0000\n",
      "Epoch 17/30\n",
      "264/264 [==============================] - 1s 2ms/sample - loss: 1.7866e-04 - acc: 1.0000\n",
      "Epoch 18/30\n",
      "264/264 [==============================] - 1s 2ms/sample - loss: 1.5196e-04 - acc: 1.0000\n",
      "Epoch 19/30\n",
      "264/264 [==============================] - 1s 2ms/sample - loss: 1.3197e-04 - acc: 1.0000\n",
      "Epoch 20/30\n",
      "264/264 [==============================] - 1s 2ms/sample - loss: 1.1816e-04 - acc: 1.0000\n",
      "Epoch 21/30\n",
      "264/264 [==============================] - 1s 2ms/sample - loss: 1.0575e-04 - acc: 1.0000\n",
      "Epoch 22/30\n",
      "264/264 [==============================] - 1s 2ms/sample - loss: 9.5893e-05 - acc: 1.0000\n",
      "Epoch 23/30\n",
      "264/264 [==============================] - 1s 2ms/sample - loss: 8.9236e-05 - acc: 1.0000\n",
      "Epoch 24/30\n",
      "264/264 [==============================] - 1s 2ms/sample - loss: 8.3125e-05 - acc: 1.0000\n",
      "Epoch 25/30\n",
      "264/264 [==============================] - 1s 2ms/sample - loss: 7.7743e-05 - acc: 1.0000\n",
      "Epoch 26/30\n",
      "264/264 [==============================] - 1s 2ms/sample - loss: 7.3363e-05 - acc: 1.0000\n",
      "Epoch 27/30\n",
      "264/264 [==============================] - 1s 2ms/sample - loss: 6.8927e-05 - acc: 1.0000\n",
      "Epoch 28/30\n",
      "264/264 [==============================] - 1s 2ms/sample - loss: 6.4842e-05 - acc: 1.0000\n",
      "Epoch 29/30\n",
      "264/264 [==============================] - 1s 2ms/sample - loss: 6.1573e-05 - acc: 1.0000\n",
      "Epoch 30/30\n",
      "264/264 [==============================] - 1s 2ms/sample - loss: 5.8248e-05 - acc: 1.0000\n"
     ]
    },
    {
     "data": {
      "text/plain": [
       "<tensorflow.python.keras.callbacks.History at 0x7f14be49a940>"
      ]
     },
     "execution_count": 7,
     "metadata": {
      "tags": []
     },
     "output_type": "execute_result"
    }
   ],
   "source": [
    "model.fit(x, y, epochs=30, batch_size=64, callbacks=[tensorboard])"
   ]
  },
  {
   "cell_type": "code",
   "execution_count": 8,
   "metadata": {
    "colab": {
     "base_uri": "https://localhost:8080/",
     "height": 52
    },
    "colab_type": "code",
    "id": "zP9D5MuE_NbY",
    "outputId": "4b69d2ba-c1eb-42a8-cf2c-3279d3b00295"
   },
   "outputs": [
    {
     "name": "stdout",
     "output_type": "stream",
     "text": [
      "264/264 [==============================] - 1s 2ms/sample - loss: 5.5904e-05 - acc: 1.0000\n"
     ]
    },
    {
     "data": {
      "text/plain": [
       "[5.590416014566665e-05, 1.0]"
      ]
     },
     "execution_count": 8,
     "metadata": {
      "tags": []
     },
     "output_type": "execute_result"
    }
   ],
   "source": [
    "model.evaluate(x, y, verbose=1)"
   ]
  },
  {
   "cell_type": "code",
   "execution_count": 9,
   "metadata": {
    "colab": {
     "base_uri": "https://localhost:8080/",
     "height": 677
    },
    "colab_type": "code",
    "id": "tnBGVTwZUPwc",
    "outputId": "59c83914-5a30-4046-8b5d-a27926c2e221"
   },
   "outputs": [
    {
     "name": "stdout",
     "output_type": "stream",
     "text": [
      "Model: \"sequential\"\n",
      "_________________________________________________________________\n",
      "Layer (type)                 Output Shape              Param #   \n",
      "=================================================================\n",
      "conv2d (Conv2D)              (None, 297, 297, 32)      896       \n",
      "_________________________________________________________________\n",
      "max_pooling2d (MaxPooling2D) (None, 148, 148, 32)      0         \n",
      "_________________________________________________________________\n",
      "conv2d_1 (Conv2D)            (None, 146, 146, 128)     36992     \n",
      "_________________________________________________________________\n",
      "max_pooling2d_1 (MaxPooling2 (None, 73, 73, 128)       0         \n",
      "_________________________________________________________________\n",
      "conv2d_2 (Conv2D)            (None, 71, 71, 128)       147584    \n",
      "_________________________________________________________________\n",
      "max_pooling2d_2 (MaxPooling2 (None, 35, 35, 128)       0         \n",
      "_________________________________________________________________\n",
      "conv2d_3 (Conv2D)            (None, 33, 33, 128)       147584    \n",
      "_________________________________________________________________\n",
      "max_pooling2d_3 (MaxPooling2 (None, 16, 16, 128)       0         \n",
      "_________________________________________________________________\n",
      "flatten (Flatten)            (None, 32768)             0         \n",
      "_________________________________________________________________\n",
      "dense (Dense)                (None, 128)               4194432   \n",
      "_________________________________________________________________\n",
      "activation (Activation)      (None, 128)               0         \n",
      "_________________________________________________________________\n",
      "dense_1 (Dense)              (None, 64)                8256      \n",
      "_________________________________________________________________\n",
      "activation_1 (Activation)    (None, 64)                0         \n",
      "_________________________________________________________________\n",
      "dense_2 (Dense)              (None, 5)                 325       \n",
      "_________________________________________________________________\n",
      "activation_2 (Activation)    (None, 5)                 0         \n",
      "=================================================================\n",
      "Total params: 4,536,069\n",
      "Trainable params: 4,536,069\n",
      "Non-trainable params: 0\n",
      "_________________________________________________________________\n"
     ]
    }
   ],
   "source": [
    "model.summary()"
   ]
  },
  {
   "cell_type": "code",
   "execution_count": 0,
   "metadata": {
    "colab": {},
    "colab_type": "code",
    "id": "w4079RY5Xijh"
   },
   "outputs": [],
   "source": [
    "model.save('model_2.h5')"
   ]
  },
  {
   "cell_type": "code",
   "execution_count": 11,
   "metadata": {
    "colab": {
     "base_uri": "https://localhost:8080/",
     "height": 34
    },
    "colab_type": "code",
    "id": "clBhx--tAJ3O",
    "outputId": "481deb53-d210-452d-c781-e3a5ac18970d"
   },
   "outputs": [
    {
     "name": "stdout",
     "output_type": "stream",
     "text": [
      "/content\n"
     ]
    }
   ],
   "source": [
    "!pwd"
   ]
  },
  {
   "cell_type": "code",
   "execution_count": 0,
   "metadata": {
    "colab": {},
    "colab_type": "code",
    "id": "SP4OFw4bX4N5"
   },
   "outputs": [],
   "source": [
    "import zipfile\n",
    "import os\n",
    "def zipfolder(foldername, target_dir):            \n",
    "    zipobj = zipfile.ZipFile(foldername + '.zip', 'w', zipfile.ZIP_DEFLATED)\n",
    "    rootlen = len(target_dir) + 1\n",
    "    for base, dirs, files in os.walk(target_dir):\n",
    "        for file in files:\n",
    "            fn = os.path.join(base, file)\n",
    "            zipobj.write(fn, fn[rootlen:])"
   ]
  },
  {
   "cell_type": "code",
   "execution_count": 0,
   "metadata": {
    "colab": {},
    "colab_type": "code",
    "id": "SS9BzRZCM4qq"
   },
   "outputs": [],
   "source": [
    "zipfolder('logs',\"./logs\")"
   ]
  },
  {
   "cell_type": "code",
   "execution_count": 0,
   "metadata": {
    "colab": {},
    "colab_type": "code",
    "id": "dsp6shsSOW5H"
   },
   "outputs": [],
   "source": [
    "!rm -rf logs"
   ]
  },
  {
   "cell_type": "code",
   "execution_count": 0,
   "metadata": {
    "colab": {},
    "colab_type": "code",
    "id": "1IznCEFM1Dml"
   },
   "outputs": [],
   "source": []
  }
 ],
 "metadata": {
  "accelerator": "GPU",
  "colab": {
   "collapsed_sections": [],
   "name": "nn_model_train.ipynb",
   "provenance": []
  },
  "kernelspec": {
   "display_name": "Python 3",
   "language": "python",
   "name": "python3"
  },
  "language_info": {
   "codemirror_mode": {
    "name": "ipython",
    "version": 3
   },
   "file_extension": ".py",
   "mimetype": "text/x-python",
   "name": "python",
   "nbconvert_exporter": "python",
   "pygments_lexer": "ipython3",
   "version": "3.7.3"
  }
 },
 "nbformat": 4,
 "nbformat_minor": 1
}
