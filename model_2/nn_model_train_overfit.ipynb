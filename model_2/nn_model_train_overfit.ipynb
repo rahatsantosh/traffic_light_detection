{
  "nbformat": 4,
  "nbformat_minor": 0,
  "metadata": {
    "accelerator": "GPU",
    "colab": {
      "name": "nn_model_train.ipynb",
      "provenance": [],
      "collapsed_sections": []
    },
    "kernelspec": {
      "name": "python3",
      "display_name": "Python 3"
    },
    "language_info": {
      "codemirror_mode": {
        "name": "ipython",
        "version": 3
      },
      "file_extension": ".py",
      "mimetype": "text/x-python",
      "name": "python",
      "nbconvert_exporter": "python",
      "pygments_lexer": "ipython3",
      "version": "3.7.3"
    }
  },
  "cells": [
    {
      "cell_type": "code",
      "metadata": {
        "colab_type": "code",
        "id": "Wc7CXIkmUPvq",
        "outputId": "b97c8370-53f0-4b6b-b722-fc769f52f656",
        "colab": {
          "base_uri": "https://localhost:8080/",
          "height": 81
        }
      },
      "source": [
        "import pickle\n",
        "import pandas as pd\n",
        "import numpy as np\n",
        "import tensorflow as tf\n",
        "\n",
        "x = pickle.load(open('data.pickle','rb'))\n",
        "y = pickle.load(open('label.pickle','rb'))\n",
        "print(np.shape(x))"
      ],
      "execution_count": 1,
      "outputs": [
        {
          "output_type": "display_data",
          "data": {
            "text/html": [
              "<p style=\"color: red;\">\n",
              "The default version of TensorFlow in Colab will soon switch to TensorFlow 2.x.<br>\n",
              "We recommend you <a href=\"https://www.tensorflow.org/guide/migrate\" target=\"_blank\">upgrade</a> now \n",
              "or ensure your notebook will continue to use TensorFlow 1.x via the <code>%tensorflow_version 1.x</code> magic:\n",
              "<a href=\"https://colab.research.google.com/notebooks/tensorflow_version.ipynb\" target=\"_blank\">more info</a>.</p>\n"
            ],
            "text/plain": [
              "<IPython.core.display.HTML object>"
            ]
          },
          "metadata": {
            "tags": []
          }
        },
        {
          "output_type": "stream",
          "text": [
            "(264, 1, 299, 299, 3)\n"
          ],
          "name": "stdout"
        }
      ]
    },
    {
      "cell_type": "code",
      "metadata": {
        "colab_type": "code",
        "id": "HYPxwz2hUPv1",
        "outputId": "a8948694-11e9-4d95-cbb2-9c0518366239",
        "colab": {
          "base_uri": "https://localhost:8080/",
          "height": 52
        }
      },
      "source": [
        "print(np.shape(x))\n",
        "x=np.reshape(x,(264,299,299,3))\n",
        "print(np.shape(x))"
      ],
      "execution_count": 3,
      "outputs": [
        {
          "output_type": "stream",
          "text": [
            "(264, 1, 299, 299, 3)\n",
            "(264, 299, 299, 3)\n"
          ],
          "name": "stdout"
        }
      ]
    },
    {
      "cell_type": "code",
      "metadata": {
        "colab_type": "code",
        "id": "nz8afNuTUPv_",
        "outputId": "56c2aa02-eafc-420b-b69c-c52393c5aa14",
        "colab": {
          "base_uri": "https://localhost:8080/",
          "height": 34
        }
      },
      "source": [
        "print(np.shape(y))"
      ],
      "execution_count": 4,
      "outputs": [
        {
          "output_type": "stream",
          "text": [
            "(264,)\n"
          ],
          "name": "stdout"
        }
      ]
    },
    {
      "cell_type": "code",
      "metadata": {
        "colab_type": "code",
        "id": "mf6xQcWsUPwH",
        "colab": {}
      },
      "source": [
        "from tensorflow.keras import regularizers\n",
        "from tensorflow.keras.metrics import Recall,Precision\n",
        "from tensorflow.keras.models import Sequential\n",
        "from tensorflow.keras.layers import Dense,Flatten,Dropout,Activation,Conv2D,MaxPooling2D,Dropout\n",
        "\n",
        "\n",
        "model = Sequential()\n",
        "\n",
        "model.add(Conv2D(32, (3,3), activation='relu', input_shape=(299,299,3)))\n",
        "model.add(MaxPooling2D(2, 2))\n",
        "\n",
        "model.add(Conv2D(128, (3,3), activation='relu'))\n",
        "model.add(MaxPooling2D(2, 2))\n",
        "\n",
        "model.add(Conv2D(128, (3,3), activation='relu'))\n",
        "model.add(MaxPooling2D(2, 2))\n",
        "\n",
        "model.add(Conv2D(128, (3,3), activation='relu'))\n",
        "model.add(MaxPooling2D(2, 2))\n",
        "\n",
        "model.add(Conv2D(128, (3,3), activation='relu'))\n",
        "model.add(MaxPooling2D(2, 2))\n",
        "\n",
        "model.add(Flatten())\n",
        "\n",
        "model.add(Dense(128))\n",
        "model.add(Activation('relu'))\n",
        "\n",
        "model.add(Dense(128))\n",
        "model.add(Activation('relu'))\n",
        "\n",
        "model.add(Dense(64))\n",
        "model.add(Activation('relu'))\n",
        "\n",
        "model.add(Dense(5))\n",
        "model.add(Activation('softmax'))\n",
        "\n",
        "\n",
        "model.compile(optimizer=tf.keras.optimizers.Adam(),\n",
        "              loss='sparse_categorical_crossentropy',\n",
        "              metrics=['accuracy'])"
      ],
      "execution_count": 0,
      "outputs": []
    },
    {
      "cell_type": "code",
      "metadata": {
        "colab_type": "code",
        "id": "OtPCIibyUPwP",
        "outputId": "fe645741-7457-4155-d147-2e3614d5b9f2",
        "colab": {
          "base_uri": "https://localhost:8080/",
          "height": 34
        }
      },
      "source": [
        "import keras\n",
        "from tensorflow.keras.callbacks import EarlyStopping,CSVLogger,ModelCheckpoint,TensorBoard\n",
        "filename=\"metrics.csv\"\n",
        "es=EarlyStopping(monitor='loss', min_delta=0, patience=2, mode='min', baseline=None, restore_best_weights=True)\n",
        "csv=CSVLogger(filename, separator=',', append=False)\n",
        "checkpoint=ModelCheckpoint(\"weights.{epoch}-{val_acc:.2f}.hdf5\", monitor='val_acc', verbose=0, save_best_only=False, save_weights_only=False, mode='auto', period=1)\n",
        "tensorboard=TensorBoard(log_dir='./logs', histogram_freq=0, batch_size=32, write_graph=True, write_grads=False, write_images=False, embeddings_freq=0, embeddings_layer_names=None, embeddings_metadata=None, embeddings_data=None, update_freq='epoch')"
      ],
      "execution_count": 15,
      "outputs": [
        {
          "output_type": "stream",
          "text": [
            "WARNING:tensorflow:`period` argument is deprecated. Please use `save_freq` to specify the frequency in number of samples seen.\n"
          ],
          "name": "stdout"
        }
      ]
    },
    {
      "cell_type": "code",
      "metadata": {
        "colab_type": "code",
        "id": "syh57sj4UPwX",
        "outputId": "06b5c390-0138-4aed-cf0c-9b18e8dc2ece",
        "colab": {
          "base_uri": "https://localhost:8080/",
          "height": 1000
        }
      },
      "source": [
        "model.fit(x, y, epochs=100, batch_size=128, callbacks=[tensorboard])"
      ],
      "execution_count": 16,
      "outputs": [
        {
          "output_type": "stream",
          "text": [
            "Train on 264 samples\n",
            "Epoch 1/100\n",
            "264/264 [==============================] - 2s 8ms/sample - loss: 11.2531 - acc: 0.1856\n",
            "Epoch 2/100\n",
            "264/264 [==============================] - 1s 2ms/sample - loss: 12.9106 - acc: 0.1894\n",
            "Epoch 3/100\n",
            "264/264 [==============================] - 1s 2ms/sample - loss: 1.7519 - acc: 0.2803\n",
            "Epoch 4/100\n",
            "264/264 [==============================] - 1s 2ms/sample - loss: 1.5649 - acc: 0.4205\n",
            "Epoch 5/100\n",
            "264/264 [==============================] - 1s 2ms/sample - loss: 1.5185 - acc: 0.3030\n",
            "Epoch 6/100\n",
            "264/264 [==============================] - 1s 2ms/sample - loss: 1.3625 - acc: 0.5492\n",
            "Epoch 7/100\n",
            "264/264 [==============================] - 1s 2ms/sample - loss: 1.1962 - acc: 0.4394\n",
            "Epoch 8/100\n",
            "264/264 [==============================] - 1s 2ms/sample - loss: 1.0782 - acc: 0.5379\n",
            "Epoch 9/100\n",
            "264/264 [==============================] - 1s 2ms/sample - loss: 0.7822 - acc: 0.7008\n",
            "Epoch 10/100\n",
            "264/264 [==============================] - 1s 2ms/sample - loss: 0.4581 - acc: 0.8636\n",
            "Epoch 11/100\n",
            "264/264 [==============================] - 1s 2ms/sample - loss: 0.4221 - acc: 0.8220\n",
            "Epoch 12/100\n",
            "264/264 [==============================] - 1s 2ms/sample - loss: 0.3415 - acc: 0.8788\n",
            "Epoch 13/100\n",
            "264/264 [==============================] - 1s 2ms/sample - loss: 0.2899 - acc: 0.9280\n",
            "Epoch 14/100\n",
            "264/264 [==============================] - 1s 2ms/sample - loss: 0.1720 - acc: 0.9432\n",
            "Epoch 15/100\n",
            "264/264 [==============================] - 1s 2ms/sample - loss: 0.2280 - acc: 0.9129\n",
            "Epoch 16/100\n",
            "264/264 [==============================] - 1s 2ms/sample - loss: 0.3123 - acc: 0.8864\n",
            "Epoch 17/100\n",
            "264/264 [==============================] - 1s 2ms/sample - loss: 0.2067 - acc: 0.9205\n",
            "Epoch 18/100\n",
            "264/264 [==============================] - 1s 2ms/sample - loss: 0.1438 - acc: 0.9697\n",
            "Epoch 19/100\n",
            "264/264 [==============================] - 1s 2ms/sample - loss: 0.0780 - acc: 0.9735\n",
            "Epoch 20/100\n",
            "264/264 [==============================] - 1s 2ms/sample - loss: 0.0545 - acc: 0.9886\n",
            "Epoch 21/100\n",
            "264/264 [==============================] - 1s 2ms/sample - loss: 0.0299 - acc: 0.9962\n",
            "Epoch 22/100\n",
            "264/264 [==============================] - 1s 2ms/sample - loss: 0.0142 - acc: 1.0000\n",
            "Epoch 23/100\n",
            "264/264 [==============================] - 1s 2ms/sample - loss: 0.0056 - acc: 1.0000\n",
            "Epoch 24/100\n",
            "264/264 [==============================] - 1s 2ms/sample - loss: 0.0043 - acc: 1.0000\n",
            "Epoch 25/100\n",
            "264/264 [==============================] - 1s 2ms/sample - loss: 0.0023 - acc: 1.0000\n",
            "Epoch 26/100\n",
            "264/264 [==============================] - 1s 2ms/sample - loss: 8.5254e-04 - acc: 1.0000\n",
            "Epoch 27/100\n",
            "264/264 [==============================] - 1s 2ms/sample - loss: 7.8611e-04 - acc: 1.0000\n",
            "Epoch 28/100\n",
            "264/264 [==============================] - 1s 2ms/sample - loss: 9.0689e-04 - acc: 1.0000\n",
            "Epoch 29/100\n",
            "264/264 [==============================] - 1s 2ms/sample - loss: 6.0955e-04 - acc: 1.0000\n",
            "Epoch 30/100\n",
            "264/264 [==============================] - 1s 2ms/sample - loss: 3.2715e-04 - acc: 1.0000\n",
            "Epoch 31/100\n",
            "264/264 [==============================] - 1s 2ms/sample - loss: 2.1138e-04 - acc: 1.0000\n",
            "Epoch 32/100\n",
            "264/264 [==============================] - 1s 2ms/sample - loss: 1.6043e-04 - acc: 1.0000\n",
            "Epoch 33/100\n",
            "264/264 [==============================] - 1s 2ms/sample - loss: 1.2700e-04 - acc: 1.0000\n",
            "Epoch 34/100\n",
            "264/264 [==============================] - 1s 2ms/sample - loss: 1.1376e-04 - acc: 1.0000\n",
            "Epoch 35/100\n",
            "264/264 [==============================] - 1s 2ms/sample - loss: 1.2458e-04 - acc: 1.0000\n",
            "Epoch 36/100\n",
            "264/264 [==============================] - 1s 2ms/sample - loss: 1.0605e-04 - acc: 1.0000\n",
            "Epoch 37/100\n",
            "264/264 [==============================] - 1s 2ms/sample - loss: 7.5769e-05 - acc: 1.0000\n",
            "Epoch 38/100\n",
            "264/264 [==============================] - 1s 2ms/sample - loss: 6.2921e-05 - acc: 1.0000\n",
            "Epoch 39/100\n",
            "264/264 [==============================] - 1s 2ms/sample - loss: 5.6089e-05 - acc: 1.0000\n",
            "Epoch 40/100\n",
            "264/264 [==============================] - 1s 2ms/sample - loss: 5.2438e-05 - acc: 1.0000\n",
            "Epoch 41/100\n",
            "264/264 [==============================] - 1s 2ms/sample - loss: 4.8826e-05 - acc: 1.0000\n",
            "Epoch 42/100\n",
            "264/264 [==============================] - 1s 2ms/sample - loss: 4.6726e-05 - acc: 1.0000\n",
            "Epoch 43/100\n",
            "264/264 [==============================] - 1s 2ms/sample - loss: 4.4414e-05 - acc: 1.0000\n",
            "Epoch 44/100\n",
            "264/264 [==============================] - 1s 2ms/sample - loss: 4.2306e-05 - acc: 1.0000\n",
            "Epoch 45/100\n",
            "264/264 [==============================] - 1s 2ms/sample - loss: 4.0179e-05 - acc: 1.0000\n",
            "Epoch 46/100\n",
            "264/264 [==============================] - 1s 2ms/sample - loss: 3.8245e-05 - acc: 1.0000\n",
            "Epoch 47/100\n",
            "264/264 [==============================] - 1s 2ms/sample - loss: 3.7007e-05 - acc: 1.0000\n",
            "Epoch 48/100\n",
            "264/264 [==============================] - 1s 2ms/sample - loss: 3.5791e-05 - acc: 1.0000\n",
            "Epoch 49/100\n",
            "264/264 [==============================] - 1s 2ms/sample - loss: 3.4761e-05 - acc: 1.0000\n",
            "Epoch 50/100\n",
            "264/264 [==============================] - 1s 2ms/sample - loss: 3.3832e-05 - acc: 1.0000\n",
            "Epoch 51/100\n",
            "264/264 [==============================] - 1s 2ms/sample - loss: 3.2440e-05 - acc: 1.0000\n",
            "Epoch 52/100\n",
            "264/264 [==============================] - 1s 2ms/sample - loss: 3.1755e-05 - acc: 1.0000\n",
            "Epoch 53/100\n",
            "264/264 [==============================] - 1s 2ms/sample - loss: 3.1287e-05 - acc: 1.0000\n",
            "Epoch 54/100\n",
            "264/264 [==============================] - 1s 2ms/sample - loss: 3.0713e-05 - acc: 1.0000\n",
            "Epoch 55/100\n",
            "264/264 [==============================] - 1s 2ms/sample - loss: 2.9971e-05 - acc: 1.0000\n",
            "Epoch 56/100\n",
            "264/264 [==============================] - 1s 2ms/sample - loss: 2.9237e-05 - acc: 1.0000\n",
            "Epoch 57/100\n",
            "264/264 [==============================] - 1s 2ms/sample - loss: 2.8251e-05 - acc: 1.0000\n",
            "Epoch 58/100\n",
            "264/264 [==============================] - 1s 2ms/sample - loss: 2.7407e-05 - acc: 1.0000\n",
            "Epoch 59/100\n",
            "264/264 [==============================] - 1s 2ms/sample - loss: 2.6926e-05 - acc: 1.0000\n",
            "Epoch 60/100\n",
            "264/264 [==============================] - 1s 2ms/sample - loss: 2.6506e-05 - acc: 1.0000\n",
            "Epoch 61/100\n",
            "264/264 [==============================] - 1s 2ms/sample - loss: 2.6247e-05 - acc: 1.0000\n",
            "Epoch 62/100\n",
            "264/264 [==============================] - 1s 2ms/sample - loss: 2.5683e-05 - acc: 1.0000\n",
            "Epoch 63/100\n",
            "264/264 [==============================] - 1s 2ms/sample - loss: 2.5016e-05 - acc: 1.0000\n",
            "Epoch 64/100\n",
            "264/264 [==============================] - 1s 2ms/sample - loss: 2.4129e-05 - acc: 1.0000\n",
            "Epoch 65/100\n",
            "264/264 [==============================] - 1s 2ms/sample - loss: 2.3088e-05 - acc: 1.0000\n",
            "Epoch 66/100\n",
            "264/264 [==============================] - 1s 2ms/sample - loss: 2.2256e-05 - acc: 1.0000\n",
            "Epoch 67/100\n",
            "264/264 [==============================] - 1s 2ms/sample - loss: 2.1495e-05 - acc: 1.0000\n",
            "Epoch 68/100\n",
            "264/264 [==============================] - 1s 2ms/sample - loss: 2.0872e-05 - acc: 1.0000\n",
            "Epoch 69/100\n",
            "264/264 [==============================] - 1s 2ms/sample - loss: 2.0438e-05 - acc: 1.0000\n",
            "Epoch 70/100\n",
            "264/264 [==============================] - 1s 2ms/sample - loss: 1.9995e-05 - acc: 1.0000\n",
            "Epoch 71/100\n",
            "264/264 [==============================] - 1s 2ms/sample - loss: 1.9538e-05 - acc: 1.0000\n",
            "Epoch 72/100\n",
            "264/264 [==============================] - 1s 2ms/sample - loss: 1.8935e-05 - acc: 1.0000\n",
            "Epoch 73/100\n",
            "264/264 [==============================] - 1s 2ms/sample - loss: 1.8344e-05 - acc: 1.0000\n",
            "Epoch 74/100\n",
            "264/264 [==============================] - 1s 2ms/sample - loss: 1.7978e-05 - acc: 1.0000\n",
            "Epoch 75/100\n",
            "264/264 [==============================] - 1s 2ms/sample - loss: 1.7614e-05 - acc: 1.0000\n",
            "Epoch 76/100\n",
            "264/264 [==============================] - 1s 2ms/sample - loss: 1.7290e-05 - acc: 1.0000\n",
            "Epoch 77/100\n",
            "264/264 [==============================] - 1s 2ms/sample - loss: 1.7000e-05 - acc: 1.0000\n",
            "Epoch 78/100\n",
            "264/264 [==============================] - 1s 2ms/sample - loss: 1.6657e-05 - acc: 1.0000\n",
            "Epoch 79/100\n",
            "264/264 [==============================] - 1s 2ms/sample - loss: 1.6373e-05 - acc: 1.0000\n",
            "Epoch 80/100\n",
            "264/264 [==============================] - 1s 2ms/sample - loss: 1.6007e-05 - acc: 1.0000\n",
            "Epoch 81/100\n",
            "264/264 [==============================] - 1s 2ms/sample - loss: 1.5608e-05 - acc: 1.0000\n",
            "Epoch 82/100\n",
            "264/264 [==============================] - 1s 2ms/sample - loss: 1.5276e-05 - acc: 1.0000\n",
            "Epoch 83/100\n",
            "264/264 [==============================] - 1s 2ms/sample - loss: 1.4882e-05 - acc: 1.0000\n",
            "Epoch 84/100\n",
            "264/264 [==============================] - 1s 2ms/sample - loss: 1.4532e-05 - acc: 1.0000\n",
            "Epoch 85/100\n",
            "264/264 [==============================] - 1s 2ms/sample - loss: 1.4194e-05 - acc: 1.0000\n",
            "Epoch 86/100\n",
            "264/264 [==============================] - 1s 2ms/sample - loss: 1.3864e-05 - acc: 1.0000\n",
            "Epoch 87/100\n",
            "264/264 [==============================] - 1s 2ms/sample - loss: 1.3614e-05 - acc: 1.0000\n",
            "Epoch 88/100\n",
            "264/264 [==============================] - 1s 2ms/sample - loss: 1.3292e-05 - acc: 1.0000\n",
            "Epoch 89/100\n",
            "264/264 [==============================] - 1s 2ms/sample - loss: 1.2949e-05 - acc: 1.0000\n",
            "Epoch 90/100\n",
            "264/264 [==============================] - 1s 2ms/sample - loss: 1.2659e-05 - acc: 1.0000\n",
            "Epoch 91/100\n",
            "264/264 [==============================] - 1s 2ms/sample - loss: 1.2416e-05 - acc: 1.0000\n",
            "Epoch 92/100\n",
            "264/264 [==============================] - 1s 2ms/sample - loss: 1.2196e-05 - acc: 1.0000\n",
            "Epoch 93/100\n",
            "264/264 [==============================] - 1s 2ms/sample - loss: 1.1954e-05 - acc: 1.0000\n",
            "Epoch 94/100\n",
            "264/264 [==============================] - 1s 2ms/sample - loss: 1.1649e-05 - acc: 1.0000\n",
            "Epoch 95/100\n",
            "264/264 [==============================] - 1s 2ms/sample - loss: 1.1319e-05 - acc: 1.0000\n",
            "Epoch 96/100\n",
            "264/264 [==============================] - 1s 2ms/sample - loss: 1.1217e-05 - acc: 1.0000\n",
            "Epoch 97/100\n",
            "264/264 [==============================] - 1s 2ms/sample - loss: 1.1197e-05 - acc: 1.0000\n",
            "Epoch 98/100\n",
            "264/264 [==============================] - 1s 2ms/sample - loss: 1.1098e-05 - acc: 1.0000\n",
            "Epoch 99/100\n",
            "264/264 [==============================] - 1s 2ms/sample - loss: 1.0888e-05 - acc: 1.0000\n",
            "Epoch 100/100\n",
            "264/264 [==============================] - 1s 2ms/sample - loss: 1.0550e-05 - acc: 1.0000\n"
          ],
          "name": "stdout"
        },
        {
          "output_type": "execute_result",
          "data": {
            "text/plain": [
              "<tensorflow.python.keras.callbacks.History at 0x7f145e0d58d0>"
            ]
          },
          "metadata": {
            "tags": []
          },
          "execution_count": 16
        }
      ]
    },
    {
      "cell_type": "code",
      "metadata": {
        "colab_type": "code",
        "id": "zP9D5MuE_NbY",
        "outputId": "93817b81-4e71-4b83-a884-a854a6855789",
        "colab": {
          "base_uri": "https://localhost:8080/",
          "height": 52
        }
      },
      "source": [
        "model.evaluate(x, y, verbose=1)"
      ],
      "execution_count": 17,
      "outputs": [
        {
          "output_type": "stream",
          "text": [
            "264/264 [==============================] - 0s 1ms/sample - loss: 1.0267e-05 - acc: 1.0000\n"
          ],
          "name": "stdout"
        },
        {
          "output_type": "execute_result",
          "data": {
            "text/plain": [
              "[1.026692635522605e-05, 1.0]"
            ]
          },
          "metadata": {
            "tags": []
          },
          "execution_count": 17
        }
      ]
    },
    {
      "cell_type": "code",
      "metadata": {
        "colab_type": "code",
        "id": "tnBGVTwZUPwc",
        "outputId": "b4c7f5c4-f9b4-4857-8bdc-5ee4c874444a",
        "colab": {
          "base_uri": "https://localhost:8080/",
          "height": 816
        }
      },
      "source": [
        "model.summary()"
      ],
      "execution_count": 18,
      "outputs": [
        {
          "output_type": "stream",
          "text": [
            "Model: \"sequential_1\"\n",
            "_________________________________________________________________\n",
            "Layer (type)                 Output Shape              Param #   \n",
            "=================================================================\n",
            "conv2d_4 (Conv2D)            (None, 297, 297, 32)      896       \n",
            "_________________________________________________________________\n",
            "max_pooling2d_4 (MaxPooling2 (None, 148, 148, 32)      0         \n",
            "_________________________________________________________________\n",
            "conv2d_5 (Conv2D)            (None, 146, 146, 128)     36992     \n",
            "_________________________________________________________________\n",
            "max_pooling2d_5 (MaxPooling2 (None, 73, 73, 128)       0         \n",
            "_________________________________________________________________\n",
            "conv2d_6 (Conv2D)            (None, 71, 71, 128)       147584    \n",
            "_________________________________________________________________\n",
            "max_pooling2d_6 (MaxPooling2 (None, 35, 35, 128)       0         \n",
            "_________________________________________________________________\n",
            "conv2d_7 (Conv2D)            (None, 33, 33, 128)       147584    \n",
            "_________________________________________________________________\n",
            "max_pooling2d_7 (MaxPooling2 (None, 16, 16, 128)       0         \n",
            "_________________________________________________________________\n",
            "conv2d_8 (Conv2D)            (None, 14, 14, 128)       147584    \n",
            "_________________________________________________________________\n",
            "max_pooling2d_8 (MaxPooling2 (None, 7, 7, 128)         0         \n",
            "_________________________________________________________________\n",
            "flatten_1 (Flatten)          (None, 6272)              0         \n",
            "_________________________________________________________________\n",
            "dense_3 (Dense)              (None, 128)               802944    \n",
            "_________________________________________________________________\n",
            "activation_3 (Activation)    (None, 128)               0         \n",
            "_________________________________________________________________\n",
            "dense_4 (Dense)              (None, 128)               16512     \n",
            "_________________________________________________________________\n",
            "activation_4 (Activation)    (None, 128)               0         \n",
            "_________________________________________________________________\n",
            "dense_5 (Dense)              (None, 64)                8256      \n",
            "_________________________________________________________________\n",
            "activation_5 (Activation)    (None, 64)                0         \n",
            "_________________________________________________________________\n",
            "dense_6 (Dense)              (None, 5)                 325       \n",
            "_________________________________________________________________\n",
            "activation_6 (Activation)    (None, 5)                 0         \n",
            "=================================================================\n",
            "Total params: 1,308,677\n",
            "Trainable params: 1,308,677\n",
            "Non-trainable params: 0\n",
            "_________________________________________________________________\n"
          ],
          "name": "stdout"
        }
      ]
    },
    {
      "cell_type": "code",
      "metadata": {
        "colab_type": "code",
        "id": "w4079RY5Xijh",
        "colab": {}
      },
      "source": [
        "model.save('model_2_overfit.h5')"
      ],
      "execution_count": 0,
      "outputs": []
    },
    {
      "cell_type": "code",
      "metadata": {
        "colab_type": "code",
        "id": "clBhx--tAJ3O",
        "outputId": "949f5c5e-0691-4078-ea96-3e92534d7e36",
        "colab": {
          "base_uri": "https://localhost:8080/",
          "height": 34
        }
      },
      "source": [
        "!pwd"
      ],
      "execution_count": 20,
      "outputs": [
        {
          "output_type": "stream",
          "text": [
            "/content\n"
          ],
          "name": "stdout"
        }
      ]
    },
    {
      "cell_type": "code",
      "metadata": {
        "colab_type": "code",
        "id": "SP4OFw4bX4N5",
        "colab": {}
      },
      "source": [
        "import zipfile\n",
        "import os\n",
        "def zipfolder(foldername, target_dir):            \n",
        "    zipobj = zipfile.ZipFile(foldername + '.zip', 'w', zipfile.ZIP_DEFLATED)\n",
        "    rootlen = len(target_dir) + 1\n",
        "    for base, dirs, files in os.walk(target_dir):\n",
        "        for file in files:\n",
        "            fn = os.path.join(base, file)\n",
        "            zipobj.write(fn, fn[rootlen:])"
      ],
      "execution_count": 0,
      "outputs": []
    },
    {
      "cell_type": "code",
      "metadata": {
        "colab_type": "code",
        "id": "SS9BzRZCM4qq",
        "colab": {}
      },
      "source": [
        "zipfolder('logs',\"./logs\")"
      ],
      "execution_count": 0,
      "outputs": []
    },
    {
      "cell_type": "code",
      "metadata": {
        "colab_type": "code",
        "id": "dsp6shsSOW5H",
        "colab": {}
      },
      "source": [
        "!rm -rf logs"
      ],
      "execution_count": 0,
      "outputs": []
    },
    {
      "cell_type": "code",
      "metadata": {
        "colab_type": "code",
        "id": "1IznCEFM1Dml",
        "colab": {}
      },
      "source": [
        ""
      ],
      "execution_count": 0,
      "outputs": []
    }
  ]
}