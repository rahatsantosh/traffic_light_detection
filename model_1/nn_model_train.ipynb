{
  "nbformat": 4,
  "nbformat_minor": 0,
  "metadata": {
    "accelerator": "GPU",
    "colab": {
      "name": "nn_model_train.ipynb",
      "provenance": [],
      "collapsed_sections": []
    },
    "kernelspec": {
      "name": "python3",
      "display_name": "Python 3"
    },
    "language_info": {
      "codemirror_mode": {
        "name": "ipython",
        "version": 3
      },
      "file_extension": ".py",
      "mimetype": "text/x-python",
      "name": "python",
      "nbconvert_exporter": "python",
      "pygments_lexer": "ipython3",
      "version": "3.7.3"
    }
  },
  "cells": [
    {
      "cell_type": "code",
      "metadata": {
        "colab_type": "code",
        "id": "Wc7CXIkmUPvq",
        "outputId": "fa96534b-5160-40df-d25c-0b04805d0985",
        "colab": {
          "base_uri": "https://localhost:8080/",
          "height": 69
        }
      },
      "source": [
        "!unzip data.zip"
      ],
      "execution_count": 4,
      "outputs": [
        {
          "output_type": "stream",
          "text": [
            "Archive:  data.zip\n",
            "  inflating: data.pickle             \n",
            "  inflating: label.pickle            \n"
          ],
          "name": "stdout"
        }
      ]
    },
    {
      "cell_type": "code",
      "metadata": {
        "id": "prG9FuDYZSwN",
        "colab_type": "code",
        "colab": {}
      },
      "source": [
        "import pickle\n",
        "import pandas as pd\n",
        "import numpy as np\n",
        "import tensorflow as tf\n",
        "\n",
        "x = pickle.load(open('data.pickle','rb'))\n",
        "y = pickle.load(open('label.pickle','rb'))"
      ],
      "execution_count": 0,
      "outputs": []
    },
    {
      "cell_type": "code",
      "metadata": {
        "colab_type": "code",
        "id": "HYPxwz2hUPv1",
        "outputId": "bd7a1d9e-c18e-4c3c-953b-686c9c74e2e0",
        "colab": {
          "base_uri": "https://localhost:8080/",
          "height": 52
        }
      },
      "source": [
        "print(np.shape(x))\n",
        "x=np.reshape(x,(501,299,299,3))\n",
        "print(np.shape(x))"
      ],
      "execution_count": 6,
      "outputs": [
        {
          "output_type": "stream",
          "text": [
            "(501, 1, 299, 299, 3)\n",
            "(501, 299, 299, 3)\n"
          ],
          "name": "stdout"
        }
      ]
    },
    {
      "cell_type": "code",
      "metadata": {
        "colab_type": "code",
        "id": "nz8afNuTUPv_",
        "outputId": "81b8f0e0-b111-42d8-ef5f-4d4cedeb252d",
        "colab": {
          "base_uri": "https://localhost:8080/",
          "height": 34
        }
      },
      "source": [
        "print(np.shape(y))"
      ],
      "execution_count": 7,
      "outputs": [
        {
          "output_type": "stream",
          "text": [
            "(501,)\n"
          ],
          "name": "stdout"
        }
      ]
    },
    {
      "cell_type": "code",
      "metadata": {
        "colab_type": "code",
        "id": "mf6xQcWsUPwH",
        "colab": {}
      },
      "source": [
        "from tensorflow.keras import regularizers\n",
        "from tensorflow.keras.metrics import Recall,Precision\n",
        "from tensorflow.keras.models import Sequential\n",
        "from tensorflow.keras.layers import Dense,Flatten,Dropout,Activation,Conv2D,MaxPooling2D,Dropout\n",
        "\n",
        "\n",
        "model = Sequential()\n",
        "\n",
        "model.add(Conv2D(64, (3,3), activation='relu', input_shape=(299,299,3)))\n",
        "model.add(MaxPooling2D(2, 2))\n",
        "\n",
        "model.add(Conv2D(128, (3,3), activation='relu'))\n",
        "model.add(MaxPooling2D(2, 2))\n",
        "\n",
        "model.add(Conv2D(128, (3,3), activation='relu'))\n",
        "model.add(MaxPooling2D(2, 2))\n",
        "\n",
        "model.add(Flatten())\n",
        "\n",
        "model.add(Dense(64,kernel_regularizer=regularizers.l2(0.01),activity_regularizer=regularizers.l1(0.01)))\n",
        "model.add(Activation('relu'))\n",
        "\n",
        "model.add(Dense(32))\n",
        "model.add(Activation('relu'))\n",
        "\n",
        "model.add(Dropout(0.2))\n",
        "\n",
        "model.add(Dense(3))\n",
        "model.add(Activation('softmax'))\n",
        "\n",
        "\n",
        "model.compile(optimizer=tf.keras.optimizers.Adam(),\n",
        "              loss='sparse_categorical_crossentropy',\n",
        "              metrics=['accuracy'])"
      ],
      "execution_count": 0,
      "outputs": []
    },
    {
      "cell_type": "code",
      "metadata": {
        "colab_type": "code",
        "id": "OtPCIibyUPwP",
        "outputId": "93d83975-349b-4333-93f5-ab80ebfb6e93",
        "colab": {
          "base_uri": "https://localhost:8080/",
          "height": 34
        }
      },
      "source": [
        "import keras\n",
        "from tensorflow.keras.callbacks import EarlyStopping,CSVLogger,ModelCheckpoint,TensorBoard\n",
        "filename=\"metrics.csv\"\n",
        "es=EarlyStopping(monitor='loss', min_delta=0, patience=3, mode='min', baseline=None, restore_best_weights=True)\n",
        "csv=CSVLogger(filename, separator=',', append=False)\n",
        "checkpoint=ModelCheckpoint(\"weights.{epoch}-{val_acc:.2f}.hdf5\", monitor='val_acc', verbose=0, save_best_only=False, save_weights_only=False, mode='auto', period=1)\n",
        "tensorboard=TensorBoard(log_dir='./logs', histogram_freq=0, batch_size=32, write_graph=True, write_grads=False, write_images=False, embeddings_freq=0, embeddings_layer_names=None, embeddings_metadata=None, embeddings_data=None, update_freq='epoch')"
      ],
      "execution_count": 12,
      "outputs": [
        {
          "output_type": "stream",
          "text": [
            "WARNING:tensorflow:`period` argument is deprecated. Please use `save_freq` to specify the frequency in number of samples seen.\n"
          ],
          "name": "stdout"
        }
      ]
    },
    {
      "cell_type": "code",
      "metadata": {
        "colab_type": "code",
        "id": "syh57sj4UPwX",
        "outputId": "3e089e23-7e90-4346-a04d-5605adb83507",
        "colab": {
          "base_uri": "https://localhost:8080/",
          "height": 920
        }
      },
      "source": [
        "model.fit(x, y, epochs=25, batch_size=64, callbacks=[tensorboard])"
      ],
      "execution_count": 17,
      "outputs": [
        {
          "output_type": "stream",
          "text": [
            "Train on 501 samples\n",
            "Epoch 1/25\n",
            "501/501 [==============================] - 11s 21ms/sample - loss: 1.9103 - acc: 0.8942\n",
            "Epoch 2/25\n",
            "501/501 [==============================] - 6s 13ms/sample - loss: 1.8671 - acc: 0.8842\n",
            "Epoch 3/25\n",
            "501/501 [==============================] - 6s 13ms/sample - loss: 1.7346 - acc: 0.9381\n",
            "Epoch 4/25\n",
            "501/501 [==============================] - 6s 13ms/sample - loss: 1.6344 - acc: 0.9521\n",
            "Epoch 5/25\n",
            "501/501 [==============================] - 6s 13ms/sample - loss: 1.5641 - acc: 0.9641\n",
            "Epoch 6/25\n",
            "501/501 [==============================] - 6s 13ms/sample - loss: 1.4730 - acc: 0.9681\n",
            "Epoch 7/25\n",
            "501/501 [==============================] - 6s 13ms/sample - loss: 1.4049 - acc: 0.9780\n",
            "Epoch 8/25\n",
            "501/501 [==============================] - 6s 13ms/sample - loss: 1.3472 - acc: 0.9741\n",
            "Epoch 9/25\n",
            "501/501 [==============================] - 6s 13ms/sample - loss: 1.2769 - acc: 0.9860\n",
            "Epoch 10/25\n",
            "501/501 [==============================] - 6s 13ms/sample - loss: 1.2195 - acc: 0.9900\n",
            "Epoch 11/25\n",
            "501/501 [==============================] - 6s 13ms/sample - loss: 1.1725 - acc: 0.9880\n",
            "Epoch 12/25\n",
            "501/501 [==============================] - 6s 13ms/sample - loss: 1.1231 - acc: 0.9960\n",
            "Epoch 13/25\n",
            "501/501 [==============================] - 6s 13ms/sample - loss: 1.0845 - acc: 0.9900\n",
            "Epoch 14/25\n",
            "501/501 [==============================] - 6s 13ms/sample - loss: 1.0347 - acc: 0.9920\n",
            "Epoch 15/25\n",
            "501/501 [==============================] - 6s 13ms/sample - loss: 1.0012 - acc: 0.9980\n",
            "Epoch 16/25\n",
            "501/501 [==============================] - 6s 13ms/sample - loss: 0.9651 - acc: 0.9980\n",
            "Epoch 17/25\n",
            "501/501 [==============================] - 6s 13ms/sample - loss: 0.9327 - acc: 0.9980\n",
            "Epoch 18/25\n",
            "501/501 [==============================] - 6s 13ms/sample - loss: 0.9025 - acc: 0.9980\n",
            "Epoch 19/25\n",
            "501/501 [==============================] - 6s 13ms/sample - loss: 0.8895 - acc: 0.9980\n",
            "Epoch 20/25\n",
            "501/501 [==============================] - 6s 13ms/sample - loss: 0.8623 - acc: 1.0000\n",
            "Epoch 21/25\n",
            "501/501 [==============================] - 6s 13ms/sample - loss: 0.8385 - acc: 0.9980\n",
            "Epoch 22/25\n",
            "501/501 [==============================] - 6s 13ms/sample - loss: 0.8236 - acc: 0.9960\n",
            "Epoch 23/25\n",
            "501/501 [==============================] - 6s 13ms/sample - loss: 0.8145 - acc: 0.9980\n",
            "Epoch 24/25\n",
            "501/501 [==============================] - 6s 13ms/sample - loss: 0.7920 - acc: 0.9980\n",
            "Epoch 25/25\n",
            "501/501 [==============================] - 6s 13ms/sample - loss: 0.7680 - acc: 0.9980\n"
          ],
          "name": "stdout"
        },
        {
          "output_type": "execute_result",
          "data": {
            "text/plain": [
              "<tensorflow.python.keras.callbacks.History at 0x7f51201e0358>"
            ]
          },
          "metadata": {
            "tags": []
          },
          "execution_count": 17
        }
      ]
    },
    {
      "cell_type": "code",
      "metadata": {
        "colab_type": "code",
        "id": "zP9D5MuE_NbY",
        "outputId": "54de0035-7800-4371-f109-c3aaeb3071d6",
        "colab": {
          "base_uri": "https://localhost:8080/",
          "height": 52
        }
      },
      "source": [
        "model.evaluate(x, y, verbose=1)"
      ],
      "execution_count": 18,
      "outputs": [
        {
          "output_type": "stream",
          "text": [
            "501/501 [==============================] - 3s 5ms/sample - loss: 0.7471 - acc: 1.0000\n"
          ],
          "name": "stdout"
        },
        {
          "output_type": "execute_result",
          "data": {
            "text/plain": [
              "[0.7470957473842446, 1.0]"
            ]
          },
          "metadata": {
            "tags": []
          },
          "execution_count": 18
        }
      ]
    },
    {
      "cell_type": "code",
      "metadata": {
        "colab_type": "code",
        "id": "tnBGVTwZUPwc",
        "outputId": "bd1fdf71-c136-495f-edf9-08ef96313ccf",
        "colab": {
          "base_uri": "https://localhost:8080/",
          "height": 642
        }
      },
      "source": [
        "model.summary()"
      ],
      "execution_count": 19,
      "outputs": [
        {
          "output_type": "stream",
          "text": [
            "Model: \"sequential_1\"\n",
            "_________________________________________________________________\n",
            "Layer (type)                 Output Shape              Param #   \n",
            "=================================================================\n",
            "conv2d_3 (Conv2D)            (None, 297, 297, 64)      1792      \n",
            "_________________________________________________________________\n",
            "max_pooling2d_3 (MaxPooling2 (None, 148, 148, 64)      0         \n",
            "_________________________________________________________________\n",
            "conv2d_4 (Conv2D)            (None, 146, 146, 128)     73856     \n",
            "_________________________________________________________________\n",
            "max_pooling2d_4 (MaxPooling2 (None, 73, 73, 128)       0         \n",
            "_________________________________________________________________\n",
            "conv2d_5 (Conv2D)            (None, 71, 71, 128)       147584    \n",
            "_________________________________________________________________\n",
            "max_pooling2d_5 (MaxPooling2 (None, 35, 35, 128)       0         \n",
            "_________________________________________________________________\n",
            "flatten_1 (Flatten)          (None, 156800)            0         \n",
            "_________________________________________________________________\n",
            "dense_3 (Dense)              (None, 64)                10035264  \n",
            "_________________________________________________________________\n",
            "activation_3 (Activation)    (None, 64)                0         \n",
            "_________________________________________________________________\n",
            "dense_4 (Dense)              (None, 32)                2080      \n",
            "_________________________________________________________________\n",
            "activation_4 (Activation)    (None, 32)                0         \n",
            "_________________________________________________________________\n",
            "dropout_1 (Dropout)          (None, 32)                0         \n",
            "_________________________________________________________________\n",
            "dense_5 (Dense)              (None, 3)                 99        \n",
            "_________________________________________________________________\n",
            "activation_5 (Activation)    (None, 3)                 0         \n",
            "=================================================================\n",
            "Total params: 10,260,675\n",
            "Trainable params: 10,260,675\n",
            "Non-trainable params: 0\n",
            "_________________________________________________________________\n"
          ],
          "name": "stdout"
        }
      ]
    },
    {
      "cell_type": "code",
      "metadata": {
        "colab_type": "code",
        "id": "w4079RY5Xijh",
        "colab": {}
      },
      "source": [
        "model.save('model_1.h5')"
      ],
      "execution_count": 0,
      "outputs": []
    },
    {
      "cell_type": "code",
      "metadata": {
        "colab_type": "code",
        "id": "clBhx--tAJ3O",
        "outputId": "66999f5c-39d7-4170-b173-892169e484d5",
        "colab": {
          "base_uri": "https://localhost:8080/",
          "height": 34
        }
      },
      "source": [
        "!pwd"
      ],
      "execution_count": 21,
      "outputs": [
        {
          "output_type": "stream",
          "text": [
            "/content\n"
          ],
          "name": "stdout"
        }
      ]
    },
    {
      "cell_type": "code",
      "metadata": {
        "colab_type": "code",
        "id": "SP4OFw4bX4N5",
        "colab": {}
      },
      "source": [
        "import zipfile\n",
        "import os\n",
        "def zipfolder(foldername, target_dir):            \n",
        "    zipobj = zipfile.ZipFile(foldername + '.zip', 'w', zipfile.ZIP_DEFLATED)\n",
        "    rootlen = len(target_dir) + 1\n",
        "    for base, dirs, files in os.walk(target_dir):\n",
        "        for file in files:\n",
        "            fn = os.path.join(base, file)\n",
        "            zipobj.write(fn, fn[rootlen:])"
      ],
      "execution_count": 0,
      "outputs": []
    },
    {
      "cell_type": "code",
      "metadata": {
        "colab_type": "code",
        "id": "SS9BzRZCM4qq",
        "colab": {}
      },
      "source": [
        "zipfolder('logs',\"./logs\")"
      ],
      "execution_count": 0,
      "outputs": []
    },
    {
      "cell_type": "code",
      "metadata": {
        "colab_type": "code",
        "id": "dsp6shsSOW5H",
        "colab": {}
      },
      "source": [
        "!rm -rf logs"
      ],
      "execution_count": 0,
      "outputs": []
    },
    {
      "cell_type": "code",
      "metadata": {
        "colab_type": "code",
        "id": "vBlOHE6rvh7f",
        "colab": {}
      },
      "source": [
        ""
      ],
      "execution_count": 0,
      "outputs": []
    }
  ]
}