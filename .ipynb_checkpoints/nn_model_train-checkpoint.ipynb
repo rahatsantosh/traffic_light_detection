{
 "cells": [
  {
   "cell_type": "code",
   "execution_count": 0,
   "metadata": {
    "colab": {},
    "colab_type": "code",
    "id": "Wc7CXIkmUPvq"
   },
   "outputs": [],
   "source": [
    "import pickle\n",
    "import pandas as pd\n",
    "import numpy as np\n",
    "import tensorflow as tf\n",
    "\n",
    "x = pickle.load(open('data.pickle','rb'))\n",
    "y = pickle.load(open('label.pickle','rb'))"
   ]
  },
  {
   "cell_type": "code",
   "execution_count": 5,
   "metadata": {
    "colab": {
     "base_uri": "https://localhost:8080/",
     "height": 52
    },
    "colab_type": "code",
    "id": "HYPxwz2hUPv1",
    "outputId": "c36a5fd8-868b-4f25-d2ed-cbe5473f1e01"
   },
   "outputs": [
    {
     "name": "stdout",
     "output_type": "stream",
     "text": [
      "(593, 1, 200, 200)\n",
      "(593, 200, 200, 1)\n"
     ]
    }
   ],
   "source": [
    "print(np.shape(x))\n",
    "x=np.reshape(x,(593,200,200,1))\n",
    "print(np.shape(x))"
   ]
  },
  {
   "cell_type": "code",
   "execution_count": 6,
   "metadata": {
    "colab": {
     "base_uri": "https://localhost:8080/",
     "height": 34
    },
    "colab_type": "code",
    "id": "nz8afNuTUPv_",
    "outputId": "8452cd82-6eee-4d61-cda8-94bb0cccca0b"
   },
   "outputs": [
    {
     "name": "stdout",
     "output_type": "stream",
     "text": [
      "(593,)\n"
     ]
    }
   ],
   "source": [
    "print(np.shape(y))"
   ]
  },
  {
   "cell_type": "code",
   "execution_count": 7,
   "metadata": {
    "colab": {
     "base_uri": "https://localhost:8080/",
     "height": 89
    },
    "colab_type": "code",
    "id": "mf6xQcWsUPwH",
    "outputId": "6a9043cd-2f88-4fd7-b27e-516e77f59640"
   },
   "outputs": [
    {
     "name": "stdout",
     "output_type": "stream",
     "text": [
      "WARNING:tensorflow:From /usr/local/lib/python3.6/dist-packages/tensorflow_core/python/ops/resource_variable_ops.py:1630: calling BaseResourceVariable.__init__ (from tensorflow.python.ops.resource_variable_ops) with constraint is deprecated and will be removed in a future version.\n",
      "Instructions for updating:\n",
      "If using Keras pass *_constraint arguments to layers.\n"
     ]
    }
   ],
   "source": [
    "from tensorflow.keras import regularizers\n",
    "from tensorflow.keras.metrics import Recall,Precision\n",
    "from tensorflow.keras.models import Sequential\n",
    "from tensorflow.keras.layers import Dense,Flatten,Dropout,Activation,Conv2D,MaxPooling2D,Dropout\n",
    "\n",
    "\n",
    "model = Sequential()\n",
    "\n",
    "model.add(Conv2D(32, (3,3), activation='relu', input_shape=(200,200,1)))\n",
    "model.add(MaxPooling2D(2, 2))\n",
    "\n",
    "model.add(Conv2D(64, (3,3), activation='relu'))\n",
    "model.add(MaxPooling2D(2, 2))\n",
    "\n",
    "model.add(Conv2D(128, (3,3), activation='relu'))\n",
    "model.add(MaxPooling2D(2, 2))\n",
    "\n",
    "model.add(Conv2D(128, (3,3), activation='relu'))\n",
    "model.add(MaxPooling2D(2, 2))\n",
    "\n",
    "model.add(Flatten())\n",
    "\n",
    "model.add(Dense(64,kernel_regularizer=regularizers.l2(0.01),activity_regularizer=regularizers.l1(0.01)))\n",
    "model.add(Activation('relu'))\n",
    "\n",
    "model.add(Dense(32))\n",
    "model.add(Activation('relu'))\n",
    "\n",
    "model.add(Dropout(0.2))\n",
    "\n",
    "model.add(Dense(7))\n",
    "model.add(Activation('softmax'))\n",
    "\n",
    "\n",
    "model.compile(optimizer=tf.keras.optimizers.Adam(),\n",
    "              loss='sparse_categorical_crossentropy',\n",
    "              metrics=['accuracy'])"
   ]
  },
  {
   "cell_type": "code",
   "execution_count": 8,
   "metadata": {
    "colab": {
     "base_uri": "https://localhost:8080/",
     "height": 52
    },
    "colab_type": "code",
    "id": "OtPCIibyUPwP",
    "outputId": "a3ee99e7-bd79-4e32-8e3a-e7701f563d04"
   },
   "outputs": [
    {
     "name": "stderr",
     "output_type": "stream",
     "text": [
      "Using TensorFlow backend.\n"
     ]
    },
    {
     "name": "stdout",
     "output_type": "stream",
     "text": [
      "WARNING:tensorflow:`period` argument is deprecated. Please use `save_freq` to specify the frequency in number of samples seen.\n"
     ]
    }
   ],
   "source": [
    "import keras\n",
    "from tensorflow.keras.callbacks import EarlyStopping,CSVLogger,ModelCheckpoint,TensorBoard\n",
    "filename=\"metrics.csv\"\n",
    "es=EarlyStopping(monitor='loss', min_delta=0, patience=2, mode='min', baseline=None, restore_best_weights=True)\n",
    "csv=CSVLogger(filename, separator=',', append=False)\n",
    "checkpoint=ModelCheckpoint(\"weights.{epoch}-{val_acc:.2f}.hdf5\", monitor='val_acc', verbose=0, save_best_only=False, save_weights_only=False, mode='auto', period=1)\n",
    "tensorboard=TensorBoard(log_dir='./logs', histogram_freq=0, batch_size=32, write_graph=True, write_grads=False, write_images=False, embeddings_freq=0, embeddings_layer_names=None, embeddings_metadata=None, embeddings_data=None, update_freq='epoch')"
   ]
  },
  {
   "cell_type": "code",
   "execution_count": 9,
   "metadata": {
    "colab": {
     "base_uri": "https://localhost:8080/",
     "height": 1000
    },
    "colab_type": "code",
    "id": "syh57sj4UPwX",
    "outputId": "f8db612d-db29-4c2c-e313-dd5dd8ba03c5"
   },
   "outputs": [
    {
     "name": "stdout",
     "output_type": "stream",
     "text": [
      "Train on 533 samples, validate on 60 samples\n",
      "Epoch 1/100\n",
      "533/533 [==============================] - 8s 14ms/sample - loss: 15.6949 - acc: 0.3189 - val_loss: 3.1335 - val_acc: 0.5667\n",
      "Epoch 2/100\n",
      "533/533 [==============================] - 2s 3ms/sample - loss: 2.9595 - acc: 0.6116 - val_loss: 2.7659 - val_acc: 0.8000\n",
      "Epoch 3/100\n",
      "533/533 [==============================] - 2s 3ms/sample - loss: 2.6268 - acc: 0.7467 - val_loss: 2.3169 - val_acc: 0.8167\n",
      "Epoch 4/100\n",
      "533/533 [==============================] - 2s 3ms/sample - loss: 2.2945 - acc: 0.8330 - val_loss: 2.0860 - val_acc: 0.9000\n",
      "Epoch 5/100\n",
      "533/533 [==============================] - 2s 3ms/sample - loss: 2.0974 - acc: 0.8743 - val_loss: 1.9534 - val_acc: 0.9000\n",
      "Epoch 6/100\n",
      "533/533 [==============================] - 2s 3ms/sample - loss: 1.9453 - acc: 0.9343 - val_loss: 1.8659 - val_acc: 0.9000\n",
      "Epoch 7/100\n",
      "533/533 [==============================] - 2s 3ms/sample - loss: 1.8374 - acc: 0.9343 - val_loss: 1.7769 - val_acc: 0.9333\n",
      "Epoch 8/100\n",
      "533/533 [==============================] - 2s 3ms/sample - loss: 1.7646 - acc: 0.9512 - val_loss: 1.7485 - val_acc: 0.9167\n",
      "Epoch 9/100\n",
      "533/533 [==============================] - 2s 3ms/sample - loss: 1.6538 - acc: 0.9662 - val_loss: 1.6520 - val_acc: 0.9500\n",
      "Epoch 10/100\n",
      "533/533 [==============================] - 2s 3ms/sample - loss: 1.5867 - acc: 0.9794 - val_loss: 1.5764 - val_acc: 0.9333\n",
      "Epoch 11/100\n",
      "533/533 [==============================] - 2s 3ms/sample - loss: 1.4851 - acc: 0.9869 - val_loss: 1.5140 - val_acc: 0.9667\n",
      "Epoch 12/100\n",
      "533/533 [==============================] - 2s 3ms/sample - loss: 1.4362 - acc: 0.9737 - val_loss: 1.4529 - val_acc: 0.9500\n",
      "Epoch 13/100\n",
      "533/533 [==============================] - 2s 3ms/sample - loss: 1.3825 - acc: 0.9812 - val_loss: 1.4454 - val_acc: 0.9333\n",
      "Epoch 14/100\n",
      "533/533 [==============================] - 2s 3ms/sample - loss: 1.3142 - acc: 0.9906 - val_loss: 1.3572 - val_acc: 0.9500\n",
      "Epoch 15/100\n",
      "533/533 [==============================] - 2s 3ms/sample - loss: 1.2793 - acc: 0.9869 - val_loss: 1.3341 - val_acc: 0.9500\n",
      "Epoch 16/100\n",
      "533/533 [==============================] - 2s 3ms/sample - loss: 1.2428 - acc: 0.9850 - val_loss: 1.2944 - val_acc: 0.9500\n",
      "Epoch 17/100\n",
      "533/533 [==============================] - 2s 3ms/sample - loss: 1.1693 - acc: 0.9944 - val_loss: 1.2485 - val_acc: 0.9500\n",
      "Epoch 18/100\n",
      "533/533 [==============================] - 2s 3ms/sample - loss: 1.1340 - acc: 0.9962 - val_loss: 1.2172 - val_acc: 0.9667\n",
      "Epoch 19/100\n",
      "533/533 [==============================] - 2s 3ms/sample - loss: 1.1042 - acc: 0.9944 - val_loss: 1.1799 - val_acc: 0.9667\n",
      "Epoch 20/100\n",
      "533/533 [==============================] - 2s 3ms/sample - loss: 1.0563 - acc: 0.9981 - val_loss: 1.1307 - val_acc: 0.9667\n",
      "Epoch 21/100\n",
      "533/533 [==============================] - 2s 3ms/sample - loss: 1.0276 - acc: 0.9981 - val_loss: 1.1124 - val_acc: 0.9667\n",
      "Epoch 22/100\n",
      "533/533 [==============================] - 2s 3ms/sample - loss: 0.9973 - acc: 0.9981 - val_loss: 1.0831 - val_acc: 0.9667\n",
      "Epoch 23/100\n",
      "533/533 [==============================] - 2s 3ms/sample - loss: 0.9774 - acc: 0.9962 - val_loss: 1.0700 - val_acc: 0.9667\n",
      "Epoch 24/100\n",
      "533/533 [==============================] - 2s 3ms/sample - loss: 0.9408 - acc: 0.9962 - val_loss: 1.0404 - val_acc: 0.9667\n",
      "Epoch 25/100\n",
      "533/533 [==============================] - 2s 3ms/sample - loss: 0.9290 - acc: 0.9944 - val_loss: 1.0281 - val_acc: 0.9667\n",
      "Epoch 26/100\n",
      "533/533 [==============================] - 2s 3ms/sample - loss: 0.9274 - acc: 0.9887 - val_loss: 1.1010 - val_acc: 0.9500\n",
      "Epoch 27/100\n",
      "533/533 [==============================] - 2s 3ms/sample - loss: 0.9257 - acc: 0.9869 - val_loss: 1.0204 - val_acc: 0.9667\n",
      "Epoch 28/100\n",
      "533/533 [==============================] - 2s 3ms/sample - loss: 0.8644 - acc: 0.9962 - val_loss: 0.9441 - val_acc: 0.9667\n",
      "Epoch 29/100\n",
      "533/533 [==============================] - 2s 3ms/sample - loss: 0.8504 - acc: 0.9981 - val_loss: 0.9575 - val_acc: 0.9500\n",
      "Epoch 30/100\n",
      "533/533 [==============================] - 2s 3ms/sample - loss: 0.8088 - acc: 0.9981 - val_loss: 0.9226 - val_acc: 0.9500\n",
      "Epoch 31/100\n",
      "533/533 [==============================] - 2s 3ms/sample - loss: 0.7888 - acc: 0.9981 - val_loss: 0.9167 - val_acc: 0.9333\n",
      "Epoch 32/100\n",
      "533/533 [==============================] - 2s 3ms/sample - loss: 0.7777 - acc: 0.9981 - val_loss: 0.8984 - val_acc: 0.9500\n",
      "Epoch 33/100\n",
      "533/533 [==============================] - 2s 3ms/sample - loss: 0.7541 - acc: 1.0000 - val_loss: 0.8733 - val_acc: 0.9500\n",
      "Epoch 34/100\n",
      "533/533 [==============================] - 2s 3ms/sample - loss: 0.7365 - acc: 0.9981 - val_loss: 0.8508 - val_acc: 0.9667\n",
      "Epoch 35/100\n",
      "533/533 [==============================] - 2s 3ms/sample - loss: 0.7141 - acc: 1.0000 - val_loss: 0.8358 - val_acc: 0.9500\n",
      "Epoch 36/100\n",
      "533/533 [==============================] - 2s 3ms/sample - loss: 0.6922 - acc: 1.0000 - val_loss: 0.8041 - val_acc: 0.9667\n",
      "Epoch 37/100\n",
      "533/533 [==============================] - 2s 3ms/sample - loss: 0.6751 - acc: 0.9981 - val_loss: 0.8085 - val_acc: 0.9333\n",
      "Epoch 38/100\n",
      "533/533 [==============================] - 2s 3ms/sample - loss: 0.6678 - acc: 0.9981 - val_loss: 0.7665 - val_acc: 0.9667\n",
      "Epoch 39/100\n",
      "533/533 [==============================] - 2s 3ms/sample - loss: 0.6342 - acc: 1.0000 - val_loss: 0.7646 - val_acc: 0.9667\n",
      "Epoch 40/100\n",
      "533/533 [==============================] - 2s 3ms/sample - loss: 0.6227 - acc: 1.0000 - val_loss: 0.7425 - val_acc: 0.9667\n",
      "Epoch 41/100\n",
      "533/533 [==============================] - 2s 3ms/sample - loss: 0.6074 - acc: 1.0000 - val_loss: 0.7352 - val_acc: 0.9667\n",
      "Epoch 42/100\n",
      "533/533 [==============================] - 2s 3ms/sample - loss: 0.5995 - acc: 0.9962 - val_loss: 0.7065 - val_acc: 0.9667\n",
      "Epoch 43/100\n",
      "533/533 [==============================] - 2s 3ms/sample - loss: 0.5883 - acc: 1.0000 - val_loss: 0.7450 - val_acc: 0.9333\n",
      "Epoch 44/100\n",
      "533/533 [==============================] - 2s 3ms/sample - loss: 0.5797 - acc: 1.0000 - val_loss: 0.6939 - val_acc: 0.9667\n",
      "Epoch 45/100\n",
      "533/533 [==============================] - 2s 3ms/sample - loss: 0.5688 - acc: 1.0000 - val_loss: 0.7358 - val_acc: 0.9333\n",
      "Epoch 46/100\n",
      "533/533 [==============================] - 2s 3ms/sample - loss: 0.5763 - acc: 0.9981 - val_loss: 0.6941 - val_acc: 0.9500\n",
      "Epoch 47/100\n",
      "533/533 [==============================] - 2s 3ms/sample - loss: 0.5970 - acc: 0.9962 - val_loss: 0.7521 - val_acc: 0.9333\n",
      "Epoch 48/100\n",
      "533/533 [==============================] - 2s 3ms/sample - loss: 0.5971 - acc: 0.9962 - val_loss: 0.7137 - val_acc: 0.9667\n",
      "Epoch 49/100\n",
      "533/533 [==============================] - 2s 3ms/sample - loss: 0.5679 - acc: 0.9962 - val_loss: 0.6680 - val_acc: 0.9667\n",
      "Epoch 50/100\n",
      "533/533 [==============================] - 2s 3ms/sample - loss: 0.5503 - acc: 1.0000 - val_loss: 0.6790 - val_acc: 0.9667\n",
      "Epoch 51/100\n",
      "533/533 [==============================] - 2s 3ms/sample - loss: 0.5211 - acc: 1.0000 - val_loss: 0.6406 - val_acc: 0.9500\n",
      "Epoch 52/100\n",
      "533/533 [==============================] - 2s 3ms/sample - loss: 0.5186 - acc: 1.0000 - val_loss: 0.6052 - val_acc: 0.9667\n",
      "Epoch 53/100\n",
      "533/533 [==============================] - 2s 3ms/sample - loss: 0.4927 - acc: 0.9981 - val_loss: 0.6127 - val_acc: 0.9500\n",
      "Epoch 54/100\n",
      "533/533 [==============================] - 2s 3ms/sample - loss: 0.4774 - acc: 1.0000 - val_loss: 0.5918 - val_acc: 0.9667\n",
      "Epoch 55/100\n",
      "533/533 [==============================] - 2s 3ms/sample - loss: 0.4658 - acc: 0.9981 - val_loss: 0.5869 - val_acc: 0.9667\n",
      "Epoch 56/100\n",
      "533/533 [==============================] - 2s 3ms/sample - loss: 0.4485 - acc: 0.9981 - val_loss: 0.5912 - val_acc: 0.9667\n",
      "Epoch 57/100\n",
      "533/533 [==============================] - 2s 3ms/sample - loss: 0.4364 - acc: 1.0000 - val_loss: 0.5720 - val_acc: 0.9667\n",
      "Epoch 58/100\n",
      "533/533 [==============================] - 2s 3ms/sample - loss: 0.4347 - acc: 1.0000 - val_loss: 0.5306 - val_acc: 0.9667\n",
      "Epoch 59/100\n",
      "533/533 [==============================] - 2s 3ms/sample - loss: 0.4210 - acc: 0.9981 - val_loss: 0.5665 - val_acc: 0.9333\n",
      "Epoch 60/100\n",
      "533/533 [==============================] - 2s 3ms/sample - loss: 0.4223 - acc: 1.0000 - val_loss: 0.5534 - val_acc: 0.9667\n",
      "Epoch 61/100\n",
      "533/533 [==============================] - 2s 3ms/sample - loss: 0.4161 - acc: 1.0000 - val_loss: 0.5351 - val_acc: 0.9667\n",
      "Epoch 62/100\n",
      "533/533 [==============================] - 2s 3ms/sample - loss: 0.4066 - acc: 1.0000 - val_loss: 0.5334 - val_acc: 0.9333\n",
      "Epoch 63/100\n",
      "533/533 [==============================] - 2s 3ms/sample - loss: 0.4060 - acc: 0.9981 - val_loss: 0.5308 - val_acc: 0.9667\n",
      "Epoch 64/100\n",
      "533/533 [==============================] - 2s 3ms/sample - loss: 0.3988 - acc: 1.0000 - val_loss: 0.4965 - val_acc: 0.9667\n",
      "Epoch 65/100\n",
      "533/533 [==============================] - 2s 3ms/sample - loss: 0.3802 - acc: 1.0000 - val_loss: 0.4924 - val_acc: 0.9667\n",
      "Epoch 66/100\n",
      "533/533 [==============================] - 2s 3ms/sample - loss: 0.3781 - acc: 1.0000 - val_loss: 0.4798 - val_acc: 0.9667\n",
      "Epoch 67/100\n",
      "533/533 [==============================] - 2s 3ms/sample - loss: 0.3695 - acc: 1.0000 - val_loss: 0.4980 - val_acc: 0.9667\n",
      "Epoch 68/100\n",
      "533/533 [==============================] - 2s 3ms/sample - loss: 0.3645 - acc: 1.0000 - val_loss: 0.4815 - val_acc: 0.9667\n",
      "Epoch 69/100\n",
      "533/533 [==============================] - 2s 3ms/sample - loss: 0.3572 - acc: 1.0000 - val_loss: 0.4586 - val_acc: 0.9667\n",
      "Epoch 70/100\n",
      "533/533 [==============================] - 2s 3ms/sample - loss: 0.3494 - acc: 1.0000 - val_loss: 0.4932 - val_acc: 0.9667\n",
      "Epoch 71/100\n",
      "533/533 [==============================] - 2s 3ms/sample - loss: 0.3478 - acc: 0.9981 - val_loss: 0.4427 - val_acc: 0.9500\n",
      "Epoch 72/100\n",
      "533/533 [==============================] - 2s 3ms/sample - loss: 0.3480 - acc: 1.0000 - val_loss: 0.4404 - val_acc: 0.9667\n",
      "Epoch 73/100\n",
      "533/533 [==============================] - 2s 3ms/sample - loss: 0.3400 - acc: 1.0000 - val_loss: 0.4447 - val_acc: 0.9667\n",
      "Epoch 74/100\n",
      "533/533 [==============================] - 2s 3ms/sample - loss: 0.3364 - acc: 1.0000 - val_loss: 0.4869 - val_acc: 0.9500\n",
      "Epoch 75/100\n",
      "533/533 [==============================] - 2s 3ms/sample - loss: 0.3355 - acc: 1.0000 - val_loss: 0.4670 - val_acc: 0.9500\n",
      "Epoch 76/100\n",
      "533/533 [==============================] - 2s 3ms/sample - loss: 0.3281 - acc: 1.0000 - val_loss: 0.4567 - val_acc: 0.9667\n",
      "Epoch 77/100\n",
      "533/533 [==============================] - 2s 3ms/sample - loss: 0.3204 - acc: 1.0000 - val_loss: 0.4513 - val_acc: 0.9667\n",
      "Epoch 78/100\n",
      "533/533 [==============================] - 2s 3ms/sample - loss: 0.3161 - acc: 1.0000 - val_loss: 0.4556 - val_acc: 0.9667\n",
      "Epoch 79/100\n",
      "533/533 [==============================] - 2s 3ms/sample - loss: 0.3081 - acc: 1.0000 - val_loss: 0.4294 - val_acc: 0.9667\n",
      "Epoch 80/100\n",
      "533/533 [==============================] - 2s 3ms/sample - loss: 0.2983 - acc: 1.0000 - val_loss: 0.4143 - val_acc: 0.9667\n",
      "Epoch 81/100\n",
      "533/533 [==============================] - 2s 3ms/sample - loss: 0.2936 - acc: 1.0000 - val_loss: 0.4272 - val_acc: 0.9667\n",
      "Epoch 82/100\n",
      "533/533 [==============================] - 2s 3ms/sample - loss: 0.2935 - acc: 1.0000 - val_loss: 0.4183 - val_acc: 0.9667\n",
      "Epoch 83/100\n",
      "533/533 [==============================] - 2s 3ms/sample - loss: 0.2835 - acc: 1.0000 - val_loss: 0.4180 - val_acc: 0.9667\n",
      "Epoch 84/100\n",
      "533/533 [==============================] - 2s 3ms/sample - loss: 0.2854 - acc: 1.0000 - val_loss: 0.3882 - val_acc: 0.9667\n",
      "Epoch 85/100\n",
      "533/533 [==============================] - 2s 3ms/sample - loss: 0.2781 - acc: 1.0000 - val_loss: 0.3860 - val_acc: 0.9667\n",
      "Epoch 86/100\n",
      "533/533 [==============================] - 2s 3ms/sample - loss: 0.2779 - acc: 0.9981 - val_loss: 0.3935 - val_acc: 0.9667\n",
      "Epoch 87/100\n",
      "533/533 [==============================] - 2s 3ms/sample - loss: 0.2818 - acc: 0.9962 - val_loss: 0.4124 - val_acc: 0.9667\n",
      "Epoch 88/100\n",
      "533/533 [==============================] - 2s 3ms/sample - loss: 0.2758 - acc: 1.0000 - val_loss: 0.4202 - val_acc: 0.9333\n",
      "Epoch 89/100\n",
      "533/533 [==============================] - 2s 3ms/sample - loss: 0.2745 - acc: 1.0000 - val_loss: 0.4392 - val_acc: 0.9500\n",
      "Epoch 90/100\n",
      "533/533 [==============================] - 2s 3ms/sample - loss: 0.2669 - acc: 1.0000 - val_loss: 0.4088 - val_acc: 0.9500\n",
      "Epoch 91/100\n",
      "533/533 [==============================] - 2s 3ms/sample - loss: 0.2593 - acc: 1.0000 - val_loss: 0.4165 - val_acc: 0.9500\n",
      "Epoch 92/100\n",
      "533/533 [==============================] - 2s 3ms/sample - loss: 0.2531 - acc: 1.0000 - val_loss: 0.4212 - val_acc: 0.9333\n",
      "Epoch 93/100\n",
      "533/533 [==============================] - 2s 3ms/sample - loss: 0.2497 - acc: 0.9981 - val_loss: 0.4263 - val_acc: 0.9500\n",
      "Epoch 94/100\n",
      "533/533 [==============================] - 2s 3ms/sample - loss: 0.2425 - acc: 1.0000 - val_loss: 0.3840 - val_acc: 0.9500\n",
      "Epoch 95/100\n",
      "533/533 [==============================] - 2s 3ms/sample - loss: 0.2342 - acc: 0.9981 - val_loss: 0.3958 - val_acc: 0.9500\n",
      "Epoch 96/100\n",
      "533/533 [==============================] - 2s 3ms/sample - loss: 0.2447 - acc: 0.9981 - val_loss: 0.4106 - val_acc: 0.9333\n",
      "Epoch 97/100\n",
      "533/533 [==============================] - 2s 3ms/sample - loss: 0.2416 - acc: 1.0000 - val_loss: 0.3695 - val_acc: 0.9500\n",
      "Epoch 98/100\n",
      "533/533 [==============================] - 2s 3ms/sample - loss: 0.2383 - acc: 1.0000 - val_loss: 0.3618 - val_acc: 0.9667\n",
      "Epoch 99/100\n",
      "533/533 [==============================] - 2s 3ms/sample - loss: 0.2333 - acc: 1.0000 - val_loss: 0.3636 - val_acc: 0.9500\n",
      "Epoch 100/100\n",
      "533/533 [==============================] - 2s 3ms/sample - loss: 0.2289 - acc: 1.0000 - val_loss: 0.4104 - val_acc: 0.9500\n"
     ]
    },
    {
     "data": {
      "text/plain": [
       "<tensorflow.python.keras.callbacks.History at 0x7f835a235d68>"
      ]
     },
     "execution_count": 9,
     "metadata": {
      "tags": []
     },
     "output_type": "execute_result"
    }
   ],
   "source": [
    "model.fit(x, y, epochs=100, batch_size=64, validation_split=0.1, callbacks=[tensorboard])"
   ]
  },
  {
   "cell_type": "code",
   "execution_count": 10,
   "metadata": {
    "colab": {
     "base_uri": "https://localhost:8080/",
     "height": 52
    },
    "colab_type": "code",
    "id": "zP9D5MuE_NbY",
    "outputId": "e0feb343-faf6-46a6-8c58-eff446a85e14"
   },
   "outputs": [
    {
     "name": "stdout",
     "output_type": "stream",
     "text": [
      "593/593 [==============================] - 1s 2ms/sample - loss: 0.2280 - acc: 0.9949\n"
     ]
    },
    {
     "data": {
      "text/plain": [
       "[0.22799785523149255, 0.994941]"
      ]
     },
     "execution_count": 10,
     "metadata": {
      "tags": []
     },
     "output_type": "execute_result"
    }
   ],
   "source": [
    "model.evaluate(x, y, verbose=1)"
   ]
  },
  {
   "cell_type": "code",
   "execution_count": 11,
   "metadata": {
    "colab": {
     "base_uri": "https://localhost:8080/",
     "height": 712
    },
    "colab_type": "code",
    "id": "tnBGVTwZUPwc",
    "outputId": "a0b88e26-e1df-43dc-fe1a-fb4bd734d096"
   },
   "outputs": [
    {
     "name": "stdout",
     "output_type": "stream",
     "text": [
      "Model: \"sequential\"\n",
      "_________________________________________________________________\n",
      "Layer (type)                 Output Shape              Param #   \n",
      "=================================================================\n",
      "conv2d (Conv2D)              (None, 198, 198, 32)      320       \n",
      "_________________________________________________________________\n",
      "max_pooling2d (MaxPooling2D) (None, 99, 99, 32)        0         \n",
      "_________________________________________________________________\n",
      "conv2d_1 (Conv2D)            (None, 97, 97, 64)        18496     \n",
      "_________________________________________________________________\n",
      "max_pooling2d_1 (MaxPooling2 (None, 48, 48, 64)        0         \n",
      "_________________________________________________________________\n",
      "conv2d_2 (Conv2D)            (None, 46, 46, 128)       73856     \n",
      "_________________________________________________________________\n",
      "max_pooling2d_2 (MaxPooling2 (None, 23, 23, 128)       0         \n",
      "_________________________________________________________________\n",
      "conv2d_3 (Conv2D)            (None, 21, 21, 128)       147584    \n",
      "_________________________________________________________________\n",
      "max_pooling2d_3 (MaxPooling2 (None, 10, 10, 128)       0         \n",
      "_________________________________________________________________\n",
      "flatten (Flatten)            (None, 12800)             0         \n",
      "_________________________________________________________________\n",
      "dense (Dense)                (None, 64)                819264    \n",
      "_________________________________________________________________\n",
      "activation (Activation)      (None, 64)                0         \n",
      "_________________________________________________________________\n",
      "dense_1 (Dense)              (None, 32)                2080      \n",
      "_________________________________________________________________\n",
      "activation_1 (Activation)    (None, 32)                0         \n",
      "_________________________________________________________________\n",
      "dropout (Dropout)            (None, 32)                0         \n",
      "_________________________________________________________________\n",
      "dense_2 (Dense)              (None, 7)                 231       \n",
      "_________________________________________________________________\n",
      "activation_2 (Activation)    (None, 7)                 0         \n",
      "=================================================================\n",
      "Total params: 1,061,831\n",
      "Trainable params: 1,061,831\n",
      "Non-trainable params: 0\n",
      "_________________________________________________________________\n"
     ]
    }
   ],
   "source": [
    "model.summary()"
   ]
  },
  {
   "cell_type": "code",
   "execution_count": 0,
   "metadata": {
    "colab": {},
    "colab_type": "code",
    "id": "w4079RY5Xijh"
   },
   "outputs": [],
   "source": [
    "model.save('model.h5')"
   ]
  },
  {
   "cell_type": "code",
   "execution_count": 13,
   "metadata": {
    "colab": {
     "base_uri": "https://localhost:8080/",
     "height": 34
    },
    "colab_type": "code",
    "id": "clBhx--tAJ3O",
    "outputId": "c6f378de-d416-41c4-a3a5-3d410699af7e"
   },
   "outputs": [
    {
     "name": "stdout",
     "output_type": "stream",
     "text": [
      "/content\n"
     ]
    }
   ],
   "source": [
    "!pwd"
   ]
  },
  {
   "cell_type": "code",
   "execution_count": 0,
   "metadata": {
    "colab": {},
    "colab_type": "code",
    "id": "SP4OFw4bX4N5"
   },
   "outputs": [],
   "source": [
    "import zipfile\n",
    "import os\n",
    "def zipfolder(foldername, target_dir):            \n",
    "    zipobj = zipfile.ZipFile(foldername + '.zip', 'w', zipfile.ZIP_DEFLATED)\n",
    "    rootlen = len(target_dir) + 1\n",
    "    for base, dirs, files in os.walk(target_dir):\n",
    "        for file in files:\n",
    "            fn = os.path.join(base, file)\n",
    "            zipobj.write(fn, fn[rootlen:])"
   ]
  },
  {
   "cell_type": "code",
   "execution_count": 0,
   "metadata": {
    "colab": {},
    "colab_type": "code",
    "id": "SS9BzRZCM4qq"
   },
   "outputs": [],
   "source": [
    "zipfolder('logs',\".\")"
   ]
  },
  {
   "cell_type": "code",
   "execution_count": 0,
   "metadata": {
    "colab": {},
    "colab_type": "code",
    "id": "dsp6shsSOW5H"
   },
   "outputs": [],
   "source": []
  }
 ],
 "metadata": {
  "accelerator": "GPU",
  "colab": {
   "collapsed_sections": [],
   "name": "nn_model_train.ipynb",
   "provenance": []
  },
  "kernelspec": {
   "display_name": "Python 3",
   "language": "python",
   "name": "python3"
  },
  "language_info": {
   "codemirror_mode": {
    "name": "ipython",
    "version": 3
   },
   "file_extension": ".py",
   "mimetype": "text/x-python",
   "name": "python",
   "nbconvert_exporter": "python",
   "pygments_lexer": "ipython3",
   "version": "3.7.3"
  }
 },
 "nbformat": 4,
 "nbformat_minor": 1
}
