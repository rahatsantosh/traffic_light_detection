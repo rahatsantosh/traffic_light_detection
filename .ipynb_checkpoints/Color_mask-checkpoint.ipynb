{
 "cells": [
  {
   "cell_type": "code",
   "execution_count": 2,
   "metadata": {},
   "outputs": [],
   "source": [
    "import numpy as np\n",
    "import cv2"
   ]
  },
  {
   "cell_type": "code",
   "execution_count": 3,
   "metadata": {},
   "outputs": [],
   "source": [
    "def mask(img):\n",
    "    r=1\n",
    "    y=1\n",
    "    g=1\n",
    "    hsv = cv2.cvtColor(img, cv2.COLOR_BGR2HSV)\n",
    "    lower_red = np.array([161, 155, 84]) \n",
    "    upper_red = np.array([179, 255, 255])\n",
    "    lower_green = np.array([25, 52, 72]) \n",
    "    upper_green = np.array([102, 255, 255])\n",
    "    lower_yellow = np.array([10,100,20])\n",
    "    upper_yellow = np.array([25,255,255])\n",
    "    red_mask = cv2.inRange(hsv, lower_red, upper_red)\n",
    "    red = cv2.bitwise_and(img, img, mask=red_mask)\n",
    "    green_mask = cv2.inRange(hsv, lower_green, upper_green)\n",
    "    green = cv2.bitwise_and(img, img, mask=green_mask)\n",
    "    yellow_mask = cv2.inRange(hsv, lower_yellow, upper_yellow)\n",
    "    yellow = cv2.bitwise_and(img, img, mask=yellow_mask)\n",
    "    if np.sum(red)==0 or np.sum(red)<np.sum(green) or np.sum(red)<np.sum(yellow):\n",
    "        r=0\n",
    "    if np.sum(green)==0 or np.sum(green)<np.sum(yellow) or np.sum(green)<np.sum(red):\n",
    "        g=0\n",
    "    if np.sum(yellow)==0 or np.sum(yellow)<np.sum(green) or np.sum(yellow)<np.sum(red):\n",
    "        y=0\n",
    "    return r,y,g"
   ]
  },
  {
   "cell_type": "code",
   "execution_count": 4,
   "metadata": {},
   "outputs": [],
   "source": [
    "def percent(img,r,y,g):\n",
    "    hsv = cv2.cvtColor(img, cv2.COLOR_BGR2HSV)\n",
    "    if r==1:\n",
    "        low = np.array([161, 155, 84]) \n",
    "        high = np.array([179, 255, 255])\n",
    "    elif y==1:\n",
    "        low = np.array([25, 52, 72]) \n",
    "        high = np.array([102, 255, 255])\n",
    "    elif g==1:\n",
    "        low = np.array([10,100,20])\n",
    "        high = np.array([25,255,255])\n",
    "    else:\n",
    "        return\n",
    "    mask = cv2.inRange(hsv, low, high)\n",
    "    colour = cv2.bitwise_and(img, img, mask=mask)\n",
    "    bool_ar = np.array(colour>0)\n",
    "    percent = np.sum(bool_ar)/np.size(bool_ar)*100\n",
    "    return percent"
   ]
  },
  {
   "cell_type": "code",
   "execution_count": 4,
   "metadata": {},
   "outputs": [
    {
     "data": {
      "text/plain": [
       "'img=cv2.imread(\"8.jpg\",cv2.IMREAD_COLOR)\\nhsv = cv2.cvtColor(img, cv2.COLOR_BGR2HSV)\\nlow_red = np.array([161, 155, 84]) \\nhigh_red = np.array([179, 255, 255])\\nred_mask = cv2.inRange(hsv, low_red, high_red)\\nred = cv2.bitwise_and(img, img, mask=red_mask)\\ncv2.imwrite(\"red2.jpg\",red)\\nprint(red)\\nprint(np.shape(red))\\nprint(np.max(red))\\nprint(np.shape(img))\\na=np.array(red>0)\\nprint(a)\\nprint(np.sum(a)/np.size(a)*100)'"
      ]
     },
     "execution_count": 4,
     "metadata": {},
     "output_type": "execute_result"
    }
   ],
   "source": [
    "'''img=cv2.imread(\"8.jpg\",cv2.IMREAD_COLOR)\n",
    "hsv = cv2.cvtColor(img, cv2.COLOR_BGR2HSV)\n",
    "low_red = np.array([161, 155, 84]) \n",
    "high_red = np.array([179, 255, 255])\n",
    "red_mask = cv2.inRange(hsv, low_red, high_red)\n",
    "red = cv2.bitwise_and(img, img, mask=red_mask)\n",
    "cv2.imwrite(\"red2.jpg\",red)\n",
    "print(red)\n",
    "print(np.shape(red))\n",
    "print(np.max(red))\n",
    "print(np.shape(img))\n",
    "a=np.array(red>0)\n",
    "print(a)\n",
    "print(np.sum(a)/np.size(a)*100)'''"
   ]
  },
  {
   "cell_type": "code",
   "execution_count": 10,
   "metadata": {},
   "outputs": [
    {
     "name": "stdout",
     "output_type": "stream",
     "text": [
      "0\n",
      "0\n",
      "1\n",
      "0.0\n"
     ]
    },
    {
     "data": {
      "text/plain": [
       "True"
      ]
     },
     "execution_count": 10,
     "metadata": {},
     "output_type": "execute_result"
    }
   ],
   "source": [
    "img=cv2.imread(\"103.jpeg\",cv2.IMREAD_COLOR)\n",
    "img=get_center(img)\n",
    "r,y,g=mask(img)\n",
    "p=percent(img,r,y,g)\n",
    "print(r)\n",
    "print(y)\n",
    "print(g)\n",
    "print(p)\n",
    "cv2.imwrite(\"new_trial.jpg\",img)"
   ]
  },
  {
   "cell_type": "code",
   "execution_count": 7,
   "metadata": {},
   "outputs": [],
   "source": [
    "def get_center(img):\n",
    "    x,y,_ = np.shape(img)\n",
    "    n = x//2\n",
    "    m = y//2\n",
    "    x_ = x//10\n",
    "    y_ = y//10\n",
    "    new = img[n-x_:n+x_, m-y_:m+y_]\n",
    "    return new"
   ]
  },
  {
   "cell_type": "code",
   "execution_count": null,
   "metadata": {},
   "outputs": [],
   "source": []
  }
 ],
 "metadata": {
  "kernelspec": {
   "display_name": "Python 3",
   "language": "python",
   "name": "python3"
  },
  "language_info": {
   "codemirror_mode": {
    "name": "ipython",
    "version": 3
   },
   "file_extension": ".py",
   "mimetype": "text/x-python",
   "name": "python",
   "nbconvert_exporter": "python",
   "pygments_lexer": "ipython3",
   "version": "3.7.3"
  }
 },
 "nbformat": 4,
 "nbformat_minor": 2
}
