{
 "cells": [
  {
   "cell_type": "code",
   "execution_count": null,
   "metadata": {},
   "outputs": [],
   "source": []
  },
  {
   "cell_type": "code",
   "execution_count": null,
   "metadata": {},
   "outputs": [],
   "source": [
    "# Numbers of rows\n",
    "nRows = 4\n",
    "# Number of columns\n",
    "mCols = 2\n",
    "\n",
    "# Reading image\n",
    "img = cv2.imread('XXXX')\n",
    "print img\n",
    "# Dimensions of the image\n",
    "sizeX = img.shape[0]\n",
    "sizeY = img.shape[1]\n",
    "\n",
    "print sizeX,sizeY\n",
    "# Tam of Y region\n",
    "regionY=sizeY/nRows\n",
    "\n",
    "# Tam of X region \n",
    "regionX = sizeX/mCols\n",
    "\n",
    "# Total of regions\n",
    "totalRegions = nRows* mCols\n",
    "name = str(totalRegions)\n",
    "for v in range (0,totalRegions):\n",
    "    for i in range(0,mCols):\n",
    "        for j in range(0, nRows):\n",
    "            name =  str(totalRegions)\n",
    "            globals()[name]=img[0+mCols*v:mCols+(mCols*v)-1,\n",
    "                               0+nRows*(v/nRows):nRows+(nRows*(v/nRows))-1]\n",
    "            totalRegions += -1"
   ]
  }
 ],
 "metadata": {
  "kernelspec": {
   "display_name": "Python 3",
   "language": "python",
   "name": "python3"
  },
  "language_info": {
   "codemirror_mode": {
    "name": "ipython",
    "version": 3
   },
   "file_extension": ".py",
   "mimetype": "text/x-python",
   "name": "python",
   "nbconvert_exporter": "python",
   "pygments_lexer": "ipython3",
   "version": "3.7.3"
  }
 },
 "nbformat": 4,
 "nbformat_minor": 2
}
