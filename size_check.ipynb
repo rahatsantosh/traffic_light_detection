{
 "cells": [
  {
   "cell_type": "code",
   "execution_count": 2,
   "metadata": {},
   "outputs": [
    {
     "name": "stdout",
     "output_type": "stream",
     "text": [
      "(5004, 7502, 3)\n",
      "(680, 7498, 3)\n"
     ]
    }
   ],
   "source": [
    "import cv2\n",
    "img1 = cv2.imread(\"ken-wyatt-Bt02pzZSlsk-unsplash.jpg\",cv2.IMREAD_COLOR)\n",
    "img2 = cv2.imread(\"ken-wyatt-Bt02pzZSlsk-unsplash_.jpg\", cv2.IMREAD_COLOR)\n",
    "import numpy as np\n",
    "print(np.shape(img1))\n",
    "print(np.shape(img2))"
   ]
  },
  {
   "cell_type": "code",
   "execution_count": null,
   "metadata": {},
   "outputs": [],
   "source": []
  }
 ],
 "metadata": {
  "kernelspec": {
   "display_name": "Python 3",
   "language": "python",
   "name": "python3"
  },
  "language_info": {
   "codemirror_mode": {
    "name": "ipython",
    "version": 3
   },
   "file_extension": ".py",
   "mimetype": "text/x-python",
   "name": "python",
   "nbconvert_exporter": "python",
   "pygments_lexer": "ipython3",
   "version": "3.7.3"
  }
 },
 "nbformat": 4,
 "nbformat_minor": 2
}
